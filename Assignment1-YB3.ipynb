{
 "cells": [
  {
   "cell_type": "markdown",
   "metadata": {},
   "source": [
    "# <font color=red>SMU DS 7331 DATA MINING - LAB 1</font>\n",
    "\n",
    "**Team Members:**\n",
    "- YuMei Bennett\n",
    "- Liang Huang\n",
    "- Ganesh Kodi\n",
    "- Eric McCandless"
   ]
  },
  {
   "cell_type": "markdown",
   "metadata": {},
   "source": [
    "## <font color=blue>BUSINESS UNDERSTANDING (10 POINTS)</font>\n",
    "\n",
    "**Describe the purpose of the data set you selected:**\n",
    "\n",
    "We used the \"adult\" dataset from the UCI Machine Learning Repository (https://archive.ics.uci.edu/ml/datasets/Adult).  The dataset contains 1994 Census data.  It has 48,842 records and 14 attributes. Each record represents demographic information about an individual. \n",
    "\n",
    "The purpose of the data set was to determine which demographic attribute had the most impact on whether or not a person's income is less than or equal to 50,000 dollars or greater than 50,000 dollars.  \n",
    "\n",
    "A good prediction algorithm would establish a relationship or correlation between a specific attribute or group of attributes with the probability of income being <=50,000 dollars or >50,000 dollars."
   ]
  },
  {
   "cell_type": "markdown",
   "metadata": {},
   "source": [
    "## <font color=blue>DATA MEANING TYPE (10 POINTS)</font>\n",
    "\n",
    "**Describe the meaning and type of data (scale, values, etc.) for each attribute in the data file:**\n",
    "\n",
    "We will take the following steps to accomplish this task:\n",
    "\n",
    "- Read in dataset and add attribute names.  This dataset does not have attribute names in the file, but UCI lists the names on the site.  \n",
    "- List the attributes and the corresponding value type.\n",
    "- List basic statistics to see the min and max for any integer attributes.\n",
    "- List the categories for the categorical attributes.\n",
    "- Provide list of attributes with meaning, data type and values/scale."
   ]
  },
  {
   "cell_type": "code",
   "execution_count": 1,
   "metadata": {
    "scrolled": false
   },
   "outputs": [
    {
     "data": {
      "text/html": [
       "<div>\n",
       "<style scoped>\n",
       "    .dataframe tbody tr th:only-of-type {\n",
       "        vertical-align: middle;\n",
       "    }\n",
       "\n",
       "    .dataframe tbody tr th {\n",
       "        vertical-align: top;\n",
       "    }\n",
       "\n",
       "    .dataframe thead th {\n",
       "        text-align: right;\n",
       "    }\n",
       "</style>\n",
       "<table border=\"1\" class=\"dataframe\">\n",
       "  <thead>\n",
       "    <tr style=\"text-align: right;\">\n",
       "      <th></th>\n",
       "      <th>age</th>\n",
       "      <th>employ_type</th>\n",
       "      <th>pop_num</th>\n",
       "      <th>edu_level</th>\n",
       "      <th>edu_years</th>\n",
       "      <th>marital</th>\n",
       "      <th>occ</th>\n",
       "      <th>relation</th>\n",
       "      <th>race</th>\n",
       "      <th>gender</th>\n",
       "      <th>cap_gain</th>\n",
       "      <th>cap_loss</th>\n",
       "      <th>hours_week</th>\n",
       "      <th>country_orig</th>\n",
       "      <th>income</th>\n",
       "    </tr>\n",
       "  </thead>\n",
       "  <tbody>\n",
       "    <tr>\n",
       "      <th>0</th>\n",
       "      <td>39</td>\n",
       "      <td>State-gov</td>\n",
       "      <td>77516</td>\n",
       "      <td>Bachelors</td>\n",
       "      <td>13</td>\n",
       "      <td>Never-married</td>\n",
       "      <td>Adm-clerical</td>\n",
       "      <td>Not-in-family</td>\n",
       "      <td>White</td>\n",
       "      <td>Male</td>\n",
       "      <td>2174</td>\n",
       "      <td>0</td>\n",
       "      <td>40</td>\n",
       "      <td>United-States</td>\n",
       "      <td>&lt;=50K</td>\n",
       "    </tr>\n",
       "    <tr>\n",
       "      <th>1</th>\n",
       "      <td>50</td>\n",
       "      <td>Self-emp-not-inc</td>\n",
       "      <td>83311</td>\n",
       "      <td>Bachelors</td>\n",
       "      <td>13</td>\n",
       "      <td>Married-civ-spouse</td>\n",
       "      <td>Exec-managerial</td>\n",
       "      <td>Husband</td>\n",
       "      <td>White</td>\n",
       "      <td>Male</td>\n",
       "      <td>0</td>\n",
       "      <td>0</td>\n",
       "      <td>13</td>\n",
       "      <td>United-States</td>\n",
       "      <td>&lt;=50K</td>\n",
       "    </tr>\n",
       "  </tbody>\n",
       "</table>\n",
       "</div>"
      ],
      "text/plain": [
       "   age        employ_type  pop_num   edu_level  edu_years  \\\n",
       "0   39          State-gov    77516   Bachelors         13   \n",
       "1   50   Self-emp-not-inc    83311   Bachelors         13   \n",
       "\n",
       "               marital               occ        relation    race gender  \\\n",
       "0        Never-married      Adm-clerical   Not-in-family   White   Male   \n",
       "1   Married-civ-spouse   Exec-managerial         Husband   White   Male   \n",
       "\n",
       "   cap_gain  cap_loss  hours_week    country_orig  income  \n",
       "0      2174         0          40   United-States   <=50K  \n",
       "1         0         0          13   United-States   <=50K  "
      ]
     },
     "execution_count": 1,
     "metadata": {},
     "output_type": "execute_result"
    }
   ],
   "source": [
    "#Read in dataset and add attribute names and check.\n",
    "import pandas as pd\n",
    "col_names = ['age', 'employ_type', 'pop_num', 'edu_level', 'edu_years', 'marital', 'occ', 'relation', 'race', 'gender', 'cap_gain', 'cap_loss', 'hours_week', 'country_orig', 'income']\n",
    "df = pd.read_csv('adult.csv', names=col_names, header=None)\n",
    "df.head(2)"
   ]
  },
  {
   "cell_type": "code",
   "execution_count": 2,
   "metadata": {
    "scrolled": true
   },
   "outputs": [
    {
     "name": "stdout",
     "output_type": "stream",
     "text": [
      "<class 'pandas.core.frame.DataFrame'>\n",
      "RangeIndex: 32561 entries, 0 to 32560\n",
      "Data columns (total 15 columns):\n",
      "age             32561 non-null int64\n",
      "employ_type     32561 non-null object\n",
      "pop_num         32561 non-null int64\n",
      "edu_level       32561 non-null object\n",
      "edu_years       32561 non-null int64\n",
      "marital         32561 non-null object\n",
      "occ             32561 non-null object\n",
      "relation        32561 non-null object\n",
      "race            32561 non-null object\n",
      "gender          32561 non-null object\n",
      "cap_gain        32561 non-null int64\n",
      "cap_loss        32561 non-null int64\n",
      "hours_week      32561 non-null int64\n",
      "country_orig    32561 non-null object\n",
      "income          32561 non-null object\n",
      "dtypes: int64(6), object(9)\n",
      "memory usage: 3.7+ MB\n",
      "None\n"
     ]
    }
   ],
   "source": [
    "#List the attributes and the corresponding value type.\n",
    "print (df.info())"
   ]
  },
  {
   "cell_type": "code",
   "execution_count": 3,
   "metadata": {},
   "outputs": [
    {
     "name": "stdout",
     "output_type": "stream",
     "text": [
      "                age       pop_num     edu_years      cap_gain      cap_loss  \\\n",
      "count  32561.000000  3.256100e+04  32561.000000  32561.000000  32561.000000   \n",
      "mean      38.581647  1.897784e+05     10.080679   1077.648844     87.303830   \n",
      "std       13.640433  1.055500e+05      2.572720   7385.292085    402.960219   \n",
      "min       17.000000  1.228500e+04      1.000000      0.000000      0.000000   \n",
      "25%       28.000000  1.178270e+05      9.000000      0.000000      0.000000   \n",
      "50%       37.000000  1.783560e+05     10.000000      0.000000      0.000000   \n",
      "75%       48.000000  2.370510e+05     12.000000      0.000000      0.000000   \n",
      "max       90.000000  1.484705e+06     16.000000  99999.000000   4356.000000   \n",
      "\n",
      "         hours_week  \n",
      "count  32561.000000  \n",
      "mean      40.437456  \n",
      "std       12.347429  \n",
      "min        1.000000  \n",
      "25%       40.000000  \n",
      "50%       40.000000  \n",
      "75%       45.000000  \n",
      "max       99.000000  \n"
     ]
    }
   ],
   "source": [
    "#List basic statistics to see the min and max for any integer attributes.\n",
    "print (df.describe())"
   ]
  },
  {
   "cell_type": "code",
   "execution_count": 11,
   "metadata": {},
   "outputs": [
    {
     "name": "stdout",
     "output_type": "stream",
     "text": [
      " Private             22696\n",
      " Self-emp-not-inc     2541\n",
      " Local-gov            2093\n",
      " ?                    1836\n",
      " State-gov            1298\n",
      " Self-emp-inc         1116\n",
      " Federal-gov           960\n",
      " Without-pay            14\n",
      " Never-worked            7\n",
      "Name: employ_type, dtype: int64\n",
      " HS-grad         10501\n",
      " Some-college     7291\n",
      " Bachelors        5355\n",
      " Masters          1723\n",
      " Assoc-voc        1382\n",
      " 11th             1175\n",
      " Assoc-acdm       1067\n",
      " 10th              933\n",
      " 7th-8th           646\n",
      " Prof-school       576\n",
      " 9th               514\n",
      " 12th              433\n",
      " Doctorate         413\n",
      " 5th-6th           333\n",
      " 1st-4th           168\n",
      " Preschool          51\n",
      "Name: edu_level, dtype: int64\n",
      " Married-civ-spouse       14976\n",
      " Never-married            10683\n",
      " Divorced                  4443\n",
      " Separated                 1025\n",
      " Widowed                    993\n",
      " Married-spouse-absent      418\n",
      " Married-AF-spouse           23\n",
      "Name: marital, dtype: int64\n",
      " Prof-specialty       4140\n",
      " Craft-repair         4099\n",
      " Exec-managerial      4066\n",
      " Adm-clerical         3770\n",
      " Sales                3650\n",
      " Other-service        3295\n",
      " Machine-op-inspct    2002\n",
      " ?                    1843\n",
      " Transport-moving     1597\n",
      " Handlers-cleaners    1370\n",
      " Farming-fishing       994\n",
      " Tech-support          928\n",
      " Protective-serv       649\n",
      " Priv-house-serv       149\n",
      " Armed-Forces            9\n",
      "Name: occ, dtype: int64\n",
      " Husband           13193\n",
      " Not-in-family      8305\n",
      " Own-child          5068\n",
      " Unmarried          3446\n",
      " Wife               1568\n",
      " Other-relative      981\n",
      "Name: relation, dtype: int64\n",
      " White                 27816\n",
      " Black                  3124\n",
      " Asian-Pac-Islander     1039\n",
      " Amer-Indian-Eskimo      311\n",
      " Other                   271\n",
      "Name: race, dtype: int64\n",
      " Male      21790\n",
      " Female    10771\n",
      "Name: gender, dtype: int64\n",
      " United-States                 29170\n",
      " Mexico                          643\n",
      " ?                               583\n",
      " Philippines                     198\n",
      " Germany                         137\n",
      " Canada                          121\n",
      " Puerto-Rico                     114\n",
      " El-Salvador                     106\n",
      " India                           100\n",
      " Cuba                             95\n",
      " England                          90\n",
      " Jamaica                          81\n",
      " South                            80\n",
      " China                            75\n",
      " Italy                            73\n",
      " Dominican-Republic               70\n",
      " Vietnam                          67\n",
      " Guatemala                        64\n",
      " Japan                            62\n",
      " Poland                           60\n",
      " Columbia                         59\n",
      " Taiwan                           51\n",
      " Haiti                            44\n",
      " Iran                             43\n",
      " Portugal                         37\n",
      " Nicaragua                        34\n",
      " Peru                             31\n",
      " Greece                           29\n",
      " France                           29\n",
      " Ecuador                          28\n",
      " Ireland                          24\n",
      " Hong                             20\n",
      " Cambodia                         19\n",
      " Trinadad&Tobago                  19\n",
      " Thailand                         18\n",
      " Laos                             18\n",
      " Yugoslavia                       16\n",
      " Outlying-US(Guam-USVI-etc)       14\n",
      " Hungary                          13\n",
      " Honduras                         13\n",
      " Scotland                         12\n",
      " Holand-Netherlands                1\n",
      "Name: country_orig, dtype: int64\n",
      " <=50K    24720\n",
      " >50K      7841\n",
      "Name: income, dtype: int64\n"
     ]
    }
   ],
   "source": [
    "#List the categories for the categorical attributes.\n",
    "print (df['employ_type'].value_counts())\n",
    "print (df['edu_level'].value_counts())\n",
    "print (df['marital'].value_counts())\n",
    "print (df['occ'].value_counts())\n",
    "print (df['relation'].value_counts())\n",
    "print (df['race'].value_counts())\n",
    "print (df['gender'].value_counts())\n",
    "print (df['country_orig'].value_counts())\n",
    "print (df['income'].value_counts())"
   ]
  },
  {
   "cell_type": "markdown",
   "metadata": {},
   "source": [
    "**Based on the analysis above and source material, here is the list of attributes with data type and values/scale.**\n",
    "\n",
    "\n",
    "| Attribute    | Data Type | Description                                                          | Values/Scale                                                                                                                                                                                                                                                                                                                                                                                                                             |   |\n",
    "|--------------|-----------|----------------------------------------------------------------------|------------------------------------------------------------------------------------------------------------------------------------------------------------------------------------------------------------------------------------------------------------------------------------------------------------------------------------------------------------------------------------------------------------------------------------------|:-:|\n",
    "| age          | integer   | Age                                                                  | 17 - 90                                                                                                                                                                                                                                                                                                                                                                                                                                  |   |\n",
    "| employ_type  | nominal   | Type of employment                                                   | Private, Self­-emp­-not-­inc, Self-­emp-­inc, Federal­-gov, Local­-gov, State-­gov, Without-pay, Never-worked, ?                                                                                                                                                                                                                                                                                                                            |   |\n",
    "| pop_num      | integer   | # of people the Census believes the entry represents                 | 12,285 - 1,484,705                                                                                                                                                                                                                                                                                                                                                                                                                       |   |\n",
    "| edu_level    | nominal   | Education level                                                      | Preschool, 1st-4th, 5th-6th, 7th-8th, 9th, 10th, 11th, 12th, HS-grad, Prof-school, Some­-college, Assoc­-acdm, Assoc­-voc, Bachelors, Masters, Doctorate                                                                                                                                                                                                                                                                                 |   |\n",
    "| edu_years    | integer   | Years of education                                                   | 1 - 16                                                                                                                                                                                                                                                                                                                                                                                                                                   |   |\n",
    "| marital      | nominal   | Marital status                                                       | Married­-civ-­spouse (civilian spouse), Divorced, Never­-married, Separated, Widowed, Married­-spouse-­absent, Married­-AF­-spouse (married with spouse in Armed Forces)                                                                                                                                                                                                                                                                 |   |\n",
    "| occ          | nominal   | Occupation                                                           | Tech-­support, Craft­-repair, Other-­service, Sales, Exec­-managerial, Prof­-specialty, Handlers-­cleaners, Machine­-op-­inspct, Adm­-clerical, Farming-fishing, Transport-­moving, Priv­-house-­serv, Protective­-serv, Armed­-Forces, ?                                                                                                                                                                                                  |   |\n",
    "| relation     | nominal   | Represents what this individual is relative to others. e.g., husband | Husband, Not-in-family, Own-child, Unmarried, Wife, Other-relative                                                                                                                                                                                                                                                                                                                                                                       |   |\n",
    "| race         | nominal   | Race                                                                 | White, Black, Asian_Pac_Islander, Amer-Indian-Eskimo, Other                                                                                                                                                                                                                                                                                                                                                                              |   |\n",
    "| gender       | nominal   | Gender                                                               | Male, Female                                                                                                                                                                                                                                                                                                                                                                                                                             |   |\n",
    "| cap_gain     | integer   | Capital gains (dollars)                                                        | 0 - 99,999                                                                                                                                                                                                                                                                                                                                                                                                                             |   |\n",
    "| cap_loss     | integer   | Capital loss (dollars)                                                        | 0 - 4,356                                                                                                                                                                                                                                                                                                                                                                                                                              |   |\n",
    "| hours_week   | integer   | Hours worked per week                                                | 1 - 99                                                                                                                                                                                                                                                                                                                                                                                                                                   |   |\n",
    "| country_orig | nominal   | Native country                                                       | United­-States, Cambodia, England, Puerto-­Rico, Canada, Germany, Outlying­-US(Guam­-US-VI-­etc), India, Japan, Greece, South, China, Cuba, Iran, Honduras, Philippines, Italy, Poland, Jamaica, Vietnam, Mexico, Portugal, Ireland, France, Dominican­-Republic, Laos, Ecuador, Taiwan, Haiti, Columbia, Hungary, Guatemala, Nicaragua, Scotland, Thailand, Yugoslavia, El­-Salvador, Trinadad&Tobago, Peru, Hong, Holand­-Netherlands, ? |   |\n",
    "| income       | nominal   | Income level (dollars)                                                         | <=50K, >50K                                                                                                                                                                                                                                                                                                                                                                                                                            |   |\n",
    "\n",
    "\n",
    "\n"
   ]
  },
  {
   "cell_type": "markdown",
   "metadata": {},
   "source": [
    "## <font color=blue>DATA QUALITY (15 POINTS)</font>\n",
    "\n",
    "**Verify data quality: Explain any missing values, duplicate data, and outliers. Are those mistakes? How do you deal with these \n",
    "problems? Give justifications for your methods.**\n"
   ]
  },
  {
   "cell_type": "markdown",
   "metadata": {},
   "source": [
    "_Missing Values_\n",
    "\n",
    "From the analysis conducted above, we discovered that the following 3 categorical attributes have missing data points:\n",
    "\n",
    "- employ_type (Type of employment) - 1,836 missing data points (5.6% of records)\n",
    "- occ (Occupation) - 1,843 missing data points (5.7% or records)\n",
    "- country_orig (Native country) - 583 missing data points (1.8% of records)\n",
    "\n",
    "We are not intimately familiar with the data set and are unable to determine if these missing data points are Missing at Random (MAR), Missing Completely at Random (MCAR) or Missing Not at Random (MNAR).  For this reason, we feel that it would be risky to remove the missing records associated with the data points.  Additionally, we would like have as much data as possible.  Therefore, we chose to create new \"Other_cat\" category for missing values within each of these attributes and keep in the analysis at this point.\n",
    "\n",
    "Additionally, we discovered that there are no missing values for the integer variables, however, there are several \"0\" values within the capital gains and capital loss attributes.  At first, we treated these \"0\" values as missing values and imputed a mean.  But, after a team discussion we decided to leave the \"0\" values as is because there we assume there could be cases where there could be 0 capital gains and 0 capital losses.  We will keep the \"0\" values in the analysis at this point."
   ]
  },
  {
   "cell_type": "code",
   "execution_count": 83,
   "metadata": {},
   "outputs": [
    {
     "name": "stdout",
     "output_type": "stream",
     "text": [
      " United-States                 29170\n",
      " Mexico                          643\n",
      " Other_cat                       583\n",
      " Philippines                     198\n",
      " Germany                         137\n",
      " Canada                          121\n",
      " Puerto-Rico                     114\n",
      " El-Salvador                     106\n",
      " India                           100\n",
      " Cuba                             95\n",
      " England                          90\n",
      " Jamaica                          81\n",
      " South                            80\n",
      " China                            75\n",
      " Italy                            73\n",
      " Dominican-Republic               70\n",
      " Vietnam                          67\n",
      " Guatemala                        64\n",
      " Japan                            62\n",
      " Poland                           60\n",
      " Columbia                         59\n",
      " Taiwan                           51\n",
      " Haiti                            44\n",
      " Iran                             43\n",
      " Portugal                         37\n",
      " Nicaragua                        34\n",
      " Peru                             31\n",
      " Greece                           29\n",
      " France                           29\n",
      " Ecuador                          28\n",
      " Ireland                          24\n",
      " Hong                             20\n",
      " Cambodia                         19\n",
      " Trinadad&Tobago                  19\n",
      " Thailand                         18\n",
      " Laos                             18\n",
      " Yugoslavia                       16\n",
      " Outlying-US(Guam-USVI-etc)       14\n",
      " Honduras                         13\n",
      " Hungary                          13\n",
      " Scotland                         12\n",
      " Holand-Netherlands                1\n",
      "Name: country_orig, dtype: int64\n"
     ]
    }
   ],
   "source": [
    "#Replace \"?\" with \"Other_cat\"\n",
    "df['employ_type'] = df['employ_type'].str.replace('?','Other_cat')\n",
    "df['occ'] = df['occ'].str.replace('?','Other_cat')\n",
    "df['country_orig'] = df['country_orig'].str.replace('?','Other_cat')\n",
    "print (df['country_orig'].value_counts())"
   ]
  },
  {
   "cell_type": "markdown",
   "metadata": {},
   "source": [
    "_Outliers_\n",
    "\n",
    "We checked for outliers for the integer atributes using boxplots.  The boxplots show evidence of several outliers for each attribute.  This was confirmed by determinng the number of outliers via IQR.  We again are hesitant to remove values even if they are outliers at this stage.  However, we decided to do further analysis on the hours_week (hours worked per week) attribute as this attribute has the most outliers.  We checked to see how the outliers distributed across the occ (occupation) attribute as this could help us better understand where the outliers were falling and if it made sense.  We found that the upper outliers were most likely in Exec-managerial (734), Prof-specialty (580), and Sales (520).  The lower value outliers were most likely in Other-service (1221), Other_cat (817), Sales (775), Adm-clerical (685).  This makes sense to us as execs and specialty occupations can be expected to work more hours than what is typical.  Adversely, Adm-clerical is more of an hourly occupation and therfore probably means less hours.  Other-service and Other_cat occupations are difficult to assess, so there is not enough evidence for this being an anomaly.  It also makes sense that Sales could have many or few hours worked per week.  Therefore, we will not remove these outliers for now.  "
   ]
  },
  {
   "cell_type": "code",
   "execution_count": 14,
   "metadata": {},
   "outputs": [
    {
     "data": {
      "image/png": "[encoded data removed]",
      "text/plain": [
       "<Figure size 720x432 with 6 Axes>"
      ]
     },
     "metadata": {},
     "output_type": "display_data"
    }
   ],
   "source": [
    "#Check for outliers in integer attributes using boxplots.\n",
    "import numpy as np\n",
    "import matplotlib.pyplot as plt\n",
    "import seaborn as sns\n",
    "vars_to_plot_separate = [['age'], \n",
    "                         ['pop_num'], \n",
    "                         ['edu_years'], \n",
    "                         ['cap_gain'], \n",
    "                         ['cap_loss'], \n",
    "                         ['hours_week']]\n",
    "plt.figure(figsize=(10,6))\n",
    "\n",
    "for index, plot_vars in enumerate(vars_to_plot_separate):\n",
    "    plt.subplot(len(vars_to_plot_separate)/2, \n",
    "                3,\n",
    "                index+1)\n",
    "    ax=df.boxplot(column=plot_vars)\n",
    "plt.show()\n"
   ]
  },
  {
   "cell_type": "code",
   "execution_count": 18,
   "metadata": {},
   "outputs": [
    {
     "data": {
      "text/plain": [
       "143"
      ]
     },
     "execution_count": 18,
     "metadata": {},
     "output_type": "execute_result"
    }
   ],
   "source": [
    "#Number of outliers for age according IQR method.\n",
    "Q1 = df['age'].quantile(0.25)\n",
    "Q3 = df['age'].quantile(0.75)\n",
    "IQR = Q3 - Q1\n",
    "((df['age'] < (Q1 - 1.5 * IQR)) | (df['age'] > (Q3 + 1.5 * IQR))).sum()"
   ]
  },
  {
   "cell_type": "code",
   "execution_count": 19,
   "metadata": {},
   "outputs": [
    {
     "data": {
      "text/plain": [
       "992"
      ]
     },
     "execution_count": 19,
     "metadata": {},
     "output_type": "execute_result"
    }
   ],
   "source": [
    "#Number of outliers for pop_num according IQR method.\n",
    "Q1 = df['pop_num'].quantile(0.25)\n",
    "Q3 = df['pop_num'].quantile(0.75)\n",
    "IQR = Q3 - Q1\n",
    "((df['pop_num'] < (Q1 - 1.5 * IQR)) | (df['pop_num'] > (Q3 + 1.5 * IQR))).sum()"
   ]
  },
  {
   "cell_type": "code",
   "execution_count": 20,
   "metadata": {},
   "outputs": [
    {
     "data": {
      "text/plain": [
       "2712"
      ]
     },
     "execution_count": 20,
     "metadata": {},
     "output_type": "execute_result"
    }
   ],
   "source": [
    "#Number of outliers for cap_gain according IQR method.\n",
    "Q1 = df['cap_gain'].quantile(0.25)\n",
    "Q3 = df['cap_gain'].quantile(0.75)\n",
    "IQR = Q3 - Q1\n",
    "((df['cap_gain'] < (Q1 - 1.5 * IQR)) | (df['cap_gain'] > (Q3 + 1.5 * IQR))).sum()"
   ]
  },
  {
   "cell_type": "code",
   "execution_count": 21,
   "metadata": {},
   "outputs": [
    {
     "data": {
      "text/plain": [
       "1519"
      ]
     },
     "execution_count": 21,
     "metadata": {},
     "output_type": "execute_result"
    }
   ],
   "source": [
    "#Number of outliers for cap_loss according IQR method.\n",
    "Q1 = df['cap_loss'].quantile(0.25)\n",
    "Q3 = df['cap_loss'].quantile(0.75)\n",
    "IQR = Q3 - Q1\n",
    "((df['cap_loss'] < (Q1 - 1.5 * IQR)) | (df['cap_loss'] > (Q3 + 1.5 * IQR))).sum()"
   ]
  },
  {
   "cell_type": "code",
   "execution_count": 22,
   "metadata": {},
   "outputs": [
    {
     "data": {
      "text/plain": [
       "1198"
      ]
     },
     "execution_count": 22,
     "metadata": {},
     "output_type": "execute_result"
    }
   ],
   "source": [
    "#Number of outliers for edu_years according IQR method.\n",
    "Q1 = df['edu_years'].quantile(0.25)\n",
    "Q3 = df['edu_years'].quantile(0.75)\n",
    "IQR = Q3 - Q1\n",
    "((df['edu_years'] < (Q1 - 1.5 * IQR)) | (df['edu_years'] > (Q3 + 1.5 * IQR))).sum()"
   ]
  },
  {
   "cell_type": "code",
   "execution_count": 23,
   "metadata": {},
   "outputs": [
    {
     "data": {
      "text/plain": [
       "9008"
      ]
     },
     "execution_count": 23,
     "metadata": {},
     "output_type": "execute_result"
    }
   ],
   "source": [
    "#Number of outliers for hours_week according IQR method.\n",
    "Q1 = df['hours_week'].quantile(0.25)\n",
    "Q3 = df['hours_week'].quantile(0.75)\n",
    "IQR = Q3 - Q1\n",
    "((df['hours_week'] < (Q1 - 1.5 * IQR)) | (df['hours_week'] > (Q3 + 1.5 * IQR))).sum()"
   ]
  },
  {
   "cell_type": "code",
   "execution_count": 24,
   "metadata": {},
   "outputs": [
    {
     "name": "stdout",
     "output_type": "stream",
     "text": [
      " Exec-managerial      734\n",
      " Prof-specialty       580\n",
      " Sales                520\n",
      " Craft-repair         378\n",
      " Transport-moving     301\n",
      " Farming-fishing      289\n",
      " Other-service        161\n",
      " Adm-clerical         124\n",
      " Protective-serv       97\n",
      " Other_cat             89\n",
      " Machine-op-inspct     88\n",
      " Handlers-cleaners     66\n",
      " Tech-support          55\n",
      " Priv-house-serv        9\n",
      " Armed-Forces           1\n",
      "Name: occ, dtype: int64\n"
     ]
    }
   ],
   "source": [
    "#Distribution of high-value outliers for hours per week worked by occupation.\n",
    "df['outlier'] = ((df['hours_week'] > (Q3 + 1.5 * IQR)))\n",
    "df_high_outlier = df[df['outlier']==True]\n",
    "print (df_high_outlier['occ'].value_counts())"
   ]
  },
  {
   "cell_type": "code",
   "execution_count": 26,
   "metadata": {
    "scrolled": true
   },
   "outputs": [
    {
     "name": "stdout",
     "output_type": "stream",
     "text": [
      " Other-service        1221\n",
      " Other_cat             817\n",
      " Sales                 775\n",
      " Adm-clerical          685\n",
      " Prof-specialty        514\n",
      " Handlers-cleaners     290\n",
      " Exec-managerial       261\n",
      " Craft-repair          245\n",
      " Transport-moving      150\n",
      " Machine-op-inspct     144\n",
      " Farming-fishing       142\n",
      " Tech-support          136\n",
      " Priv-house-serv        73\n",
      " Protective-serv        62\n",
      " Armed-Forces            1\n",
      "Name: occ, dtype: int64\n"
     ]
    }
   ],
   "source": [
    "#Distribution of low-value outliers for hours per week worked by occupation.\n",
    "df['outlier'] = ((df['hours_week'] < (Q1 - 1.5 * IQR)))\n",
    "df_low_outlier = df[df['outlier']==True]\n",
    "print (df_low_outlier['occ'].value_counts())"
   ]
  },
  {
   "cell_type": "markdown",
   "metadata": {},
   "source": [
    "_Duplicate Data_\n",
    "\n",
    "We found 24 duplicate records in the dataset.  We will not remove these records as these are individuals and duplicate characteristics are possible."
   ]
  },
  {
   "cell_type": "code",
   "execution_count": 27,
   "metadata": {},
   "outputs": [
    {
     "name": "stdout",
     "output_type": "stream",
     "text": [
      "Duplicate Rows except first occurrence based on all columns are :\n",
      "       age        employ_type  pop_num      edu_level  edu_years  \\\n",
      "4881    25            Private   308144      Bachelors         13   \n",
      "5104    90            Private    52386   Some-college         10   \n",
      "9171    21            Private   250051   Some-college         10   \n",
      "11631   20            Private   107658   Some-college         10   \n",
      "13084   25            Private   195994        1st-4th          2   \n",
      "15059   21            Private   243368      Preschool          1   \n",
      "17040   46            Private   173243        HS-grad          9   \n",
      "18555   30            Private   144593        HS-grad          9   \n",
      "18698   19            Private    97261        HS-grad          9   \n",
      "21318   19            Private   138153   Some-college         10   \n",
      "21490   19            Private   146679   Some-college         10   \n",
      "21875   49            Private    31267        7th-8th          4   \n",
      "22300   25            Private   195994        1st-4th          2   \n",
      "22367   44            Private   367749      Bachelors         13   \n",
      "22494   49   Self-emp-not-inc    43479   Some-college         10   \n",
      "25872   23            Private   240137        5th-6th          3   \n",
      "26313   28            Private   274679        Masters         14   \n",
      "28230   27            Private   255582        HS-grad          9   \n",
      "28522   42            Private   204235   Some-college         10   \n",
      "28846   39            Private    30916        HS-grad          9   \n",
      "29157   38            Private   207202        HS-grad          9   \n",
      "30845   46            Private   133616   Some-college         10   \n",
      "31993   19            Private   251579   Some-college         10   \n",
      "32404   35            Private   379959        HS-grad          9   \n",
      "\n",
      "                   marital                 occ        relation  \\\n",
      "4881         Never-married        Craft-repair   Not-in-family   \n",
      "5104         Never-married       Other-service   Not-in-family   \n",
      "9171         Never-married      Prof-specialty       Own-child   \n",
      "11631        Never-married        Tech-support   Not-in-family   \n",
      "13084        Never-married     Priv-house-serv   Not-in-family   \n",
      "15059        Never-married     Farming-fishing   Not-in-family   \n",
      "17040   Married-civ-spouse        Craft-repair         Husband   \n",
      "18555        Never-married       Other-service   Not-in-family   \n",
      "18698        Never-married     Farming-fishing   Not-in-family   \n",
      "21318        Never-married        Adm-clerical       Own-child   \n",
      "21490        Never-married     Exec-managerial       Own-child   \n",
      "21875   Married-civ-spouse        Craft-repair         Husband   \n",
      "22300        Never-married     Priv-house-serv   Not-in-family   \n",
      "22367        Never-married      Prof-specialty   Not-in-family   \n",
      "22494   Married-civ-spouse        Craft-repair         Husband   \n",
      "25872        Never-married   Handlers-cleaners   Not-in-family   \n",
      "26313        Never-married      Prof-specialty   Not-in-family   \n",
      "28230        Never-married   Machine-op-inspct   Not-in-family   \n",
      "28522   Married-civ-spouse      Prof-specialty         Husband   \n",
      "28846   Married-civ-spouse        Craft-repair         Husband   \n",
      "29157   Married-civ-spouse   Machine-op-inspct         Husband   \n",
      "30845             Divorced        Adm-clerical       Unmarried   \n",
      "31993        Never-married       Other-service       Own-child   \n",
      "32404             Divorced       Other-service   Not-in-family   \n",
      "\n",
      "                      race   gender  cap_gain  cap_loss  hours_week  \\\n",
      "4881                 White     Male         0         0          40   \n",
      "5104    Asian-Pac-Islander     Male         0         0          35   \n",
      "9171                 White   Female         0         0          10   \n",
      "11631                White   Female         0         0          10   \n",
      "13084                White   Female         0         0          40   \n",
      "15059                White     Male         0         0          50   \n",
      "17040                White     Male         0         0          40   \n",
      "18555                Black     Male         0         0          40   \n",
      "18698                White     Male         0         0          40   \n",
      "21318                White   Female         0         0          10   \n",
      "21490                Black     Male         0         0          30   \n",
      "21875                White     Male         0         0          40   \n",
      "22300                White   Female         0         0          40   \n",
      "22367                White   Female         0         0          45   \n",
      "22494                White     Male         0         0          40   \n",
      "25872                White     Male         0         0          55   \n",
      "26313                White     Male         0         0          50   \n",
      "28230                White   Female         0         0          40   \n",
      "28522                White     Male         0         0          40   \n",
      "28846                White     Male         0         0          40   \n",
      "29157                White     Male         0         0          48   \n",
      "30845                White   Female         0         0          40   \n",
      "31993                White     Male         0         0          14   \n",
      "32404                White   Female         0         0          40   \n",
      "\n",
      "         country_orig  income  outlier  \n",
      "4881           Mexico   <=50K    False  \n",
      "5104    United-States   <=50K    False  \n",
      "9171    United-States   <=50K     True  \n",
      "11631   United-States   <=50K     True  \n",
      "13084       Guatemala   <=50K    False  \n",
      "15059          Mexico   <=50K    False  \n",
      "17040   United-States   <=50K    False  \n",
      "18555       Other_cat   <=50K    False  \n",
      "18698   United-States   <=50K    False  \n",
      "21318   United-States   <=50K     True  \n",
      "21490   United-States   <=50K     True  \n",
      "21875   United-States   <=50K    False  \n",
      "22300       Guatemala   <=50K    False  \n",
      "22367          Mexico   <=50K    False  \n",
      "22494   United-States   <=50K    False  \n",
      "25872          Mexico   <=50K    False  \n",
      "26313   United-States   <=50K    False  \n",
      "28230   United-States   <=50K    False  \n",
      "28522   United-States    >50K    False  \n",
      "28846   United-States   <=50K    False  \n",
      "29157   United-States    >50K    False  \n",
      "30845   United-States   <=50K    False  \n",
      "31993   United-States   <=50K     True  \n",
      "32404   United-States   <=50K    False  \n"
     ]
    },
    {
     "data": {
      "text/plain": [
       "24"
      ]
     },
     "execution_count": 27,
     "metadata": {},
     "output_type": "execute_result"
    }
   ],
   "source": [
    "# Find duplicate rows in dataframe and count.\n",
    "duplicateRowsDF = df[df.duplicated()]\n",
    "print(\"Duplicate Rows except first occurrence based on all columns are :\")\n",
    "print(duplicateRowsDF)\n",
    "len(df)-len(df.drop_duplicates())\n"
   ]
  },
  {
   "cell_type": "markdown",
   "metadata": {},
   "source": [
    "## <font color=blue>SIMPLE STATISTICS (10 POINTS)</font>\n",
    "\n",
    "**Visualize appropriate statistics (e.g., range, mode, mean, median, variance, counts) for a subset of attributes. Describe anything meaningful you found from this or if you found something potentially interesting. Note: You can also use data from other sources for comparison. Explain why the statistics run are meaningful.**"
   ]
  },
  {
   "cell_type": "code",
   "execution_count": 45,
   "metadata": {},
   "outputs": [],
   "source": []
  },
  {
   "cell_type": "markdown",
   "metadata": {},
   "source": [
    "## <font color=blue>VISUALIZE ATTRIBUTES (15 POINTS)</font>\n",
    "\n",
    "**Visualize the most interesting attributes (at least 5 attributes, your opinion on what is interesting). Important: Interpret the implications for each visualization. Explain for each attribute why the chosen visualization is appropriate.**"
   ]
  },
  {
   "cell_type": "code",
   "execution_count": 5,
   "metadata": {},
   "outputs": [],
   "source": []
  },
  {
   "cell_type": "markdown",
   "metadata": {},
   "source": [
    "## <font color=blue>EXPLORE JOINT ATTRIBUTES (15 POINTS)</font>\n",
    "\n",
    "**Visualize relationships between attributes: Look at the attributes via scatter plots, correlation, cross-tabulation, group-wise averages, etc. as appropriate. Explain any interesting relationships.**"
   ]
  },
  {
   "cell_type": "code",
   "execution_count": 6,
   "metadata": {},
   "outputs": [],
   "source": []
  },
  {
   "cell_type": "markdown",
   "metadata": {},
   "source": [
    "## <font color=blue>EXPLORE ATTRIBUTES AND CLASS (10 POINTS)</font>\n",
    "\n",
    "Identify and explain interesting relationships between features and the class you are trying to predict (i.e., relationships with variables and the target classification)."
   ]
  },
  {
   "cell_type": "code",
   "execution_count": 7,
   "metadata": {},
   "outputs": [],
   "source": []
  },
  {
   "cell_type": "markdown",
   "metadata": {},
   "source": [
    "## <font color=blue>NEW FEATURES (5 POINTS)</font>\n",
    "\n",
    "**Are there other features that could be added to the data or created from existing features? Which ones?**"
   ]
  },
  {
   "cell_type": "code",
   "execution_count": 8,
   "metadata": {},
   "outputs": [],
   "source": [
    "# Education_years and education_level are directly coorlated. Verify the coorlation, maybe simply drop the edu_levels?\n",
    "\n",
    "# cap_gain and cap_loss can be mathmatical concatenated into a single feature cap_gain_loss = cap_gain - cap_loss"
   ]
  },
  {
   "cell_type": "code",
   "execution_count": 21,
   "metadata": {},
   "outputs": [
    {
     "name": "stdout",
     "output_type": "stream",
     "text": [
      "<class 'pandas.core.frame.DataFrame'>\n",
      "RangeIndex: 32561 entries, 0 to 32560\n",
      "Data columns (total 15 columns):\n",
      "age             32561 non-null int64\n",
      "employ_type     32561 non-null object\n",
      "pop_num         32561 non-null int64\n",
      "edu_level       32561 non-null object\n",
      "edu_years       32561 non-null int64\n",
      "marital         32561 non-null object\n",
      "occ             32561 non-null object\n",
      "relation        32561 non-null object\n",
      "race            32561 non-null object\n",
      "gender          32561 non-null object\n",
      "cap_gain        32561 non-null int64\n",
      "cap_loss        32561 non-null int64\n",
      "hours_week      32561 non-null int64\n",
      "country_orig    32561 non-null object\n",
      "income          32561 non-null object\n",
      "dtypes: int64(6), object(9)\n",
      "memory usage: 3.7+ MB\n",
      "None\n"
     ]
    }
   ],
   "source": [
    "# make a copy of df before apply further munipulation\n",
    "dfYB0=df\n",
    "print (dfYB0.info())\n",
    "# import all necessary modules\n",
    "import pandas as pd\n",
    "import matplotlib.pyplot as plt\n",
    "import numpy as np\n",
    "from sklearn.preprocessing import Imputer\n",
    "import seaborn as sns"
   ]
  },
  {
   "cell_type": "code",
   "execution_count": 13,
   "metadata": {},
   "outputs": [
    {
     "data": {
      "text/html": [
       "<div>\n",
       "<style scoped>\n",
       "    .dataframe tbody tr th:only-of-type {\n",
       "        vertical-align: middle;\n",
       "    }\n",
       "\n",
       "    .dataframe tbody tr th {\n",
       "        vertical-align: top;\n",
       "    }\n",
       "\n",
       "    .dataframe thead th {\n",
       "        text-align: right;\n",
       "    }\n",
       "</style>\n",
       "<table border=\"1\" class=\"dataframe\">\n",
       "  <thead>\n",
       "    <tr style=\"text-align: right;\">\n",
       "      <th></th>\n",
       "      <th>age</th>\n",
       "      <th>employ_type</th>\n",
       "      <th>pop_num</th>\n",
       "      <th>edu_years</th>\n",
       "      <th>marital</th>\n",
       "      <th>occ</th>\n",
       "      <th>relation</th>\n",
       "      <th>race</th>\n",
       "      <th>gender</th>\n",
       "      <th>cap_gain</th>\n",
       "      <th>...</th>\n",
       "      <th>edu_ 9th</th>\n",
       "      <th>edu_ Assoc-acdm</th>\n",
       "      <th>edu_ Assoc-voc</th>\n",
       "      <th>edu_ Bachelors</th>\n",
       "      <th>edu_ Doctorate</th>\n",
       "      <th>edu_ HS-grad</th>\n",
       "      <th>edu_ Masters</th>\n",
       "      <th>edu_ Preschool</th>\n",
       "      <th>edu_ Prof-school</th>\n",
       "      <th>edu_ Some-college</th>\n",
       "    </tr>\n",
       "  </thead>\n",
       "  <tbody>\n",
       "    <tr>\n",
       "      <th>0</th>\n",
       "      <td>39</td>\n",
       "      <td>State-gov</td>\n",
       "      <td>77516</td>\n",
       "      <td>13</td>\n",
       "      <td>Never-married</td>\n",
       "      <td>Adm-clerical</td>\n",
       "      <td>Not-in-family</td>\n",
       "      <td>White</td>\n",
       "      <td>Male</td>\n",
       "      <td>2174</td>\n",
       "      <td>...</td>\n",
       "      <td>0</td>\n",
       "      <td>0</td>\n",
       "      <td>0</td>\n",
       "      <td>1</td>\n",
       "      <td>0</td>\n",
       "      <td>0</td>\n",
       "      <td>0</td>\n",
       "      <td>0</td>\n",
       "      <td>0</td>\n",
       "      <td>0</td>\n",
       "    </tr>\n",
       "    <tr>\n",
       "      <th>1</th>\n",
       "      <td>50</td>\n",
       "      <td>Self-emp-not-inc</td>\n",
       "      <td>83311</td>\n",
       "      <td>13</td>\n",
       "      <td>Married-civ-spouse</td>\n",
       "      <td>Exec-managerial</td>\n",
       "      <td>Husband</td>\n",
       "      <td>White</td>\n",
       "      <td>Male</td>\n",
       "      <td>0</td>\n",
       "      <td>...</td>\n",
       "      <td>0</td>\n",
       "      <td>0</td>\n",
       "      <td>0</td>\n",
       "      <td>1</td>\n",
       "      <td>0</td>\n",
       "      <td>0</td>\n",
       "      <td>0</td>\n",
       "      <td>0</td>\n",
       "      <td>0</td>\n",
       "      <td>0</td>\n",
       "    </tr>\n",
       "  </tbody>\n",
       "</table>\n",
       "<p>2 rows × 30 columns</p>\n",
       "</div>"
      ],
      "text/plain": [
       "   age        employ_type  pop_num  edu_years              marital  \\\n",
       "0   39          State-gov    77516         13        Never-married   \n",
       "1   50   Self-emp-not-inc    83311         13   Married-civ-spouse   \n",
       "\n",
       "                occ        relation    race gender  cap_gain  ...  edu_ 9th  \\\n",
       "0      Adm-clerical   Not-in-family   White   Male      2174  ...         0   \n",
       "1   Exec-managerial         Husband   White   Male         0  ...         0   \n",
       "\n",
       "   edu_ Assoc-acdm edu_ Assoc-voc edu_ Bachelors  edu_ Doctorate  \\\n",
       "0                0              0              1               0   \n",
       "1                0              0              1               0   \n",
       "\n",
       "   edu_ HS-grad  edu_ Masters  edu_ Preschool  edu_ Prof-school  \\\n",
       "0             0             0               0                 0   \n",
       "1             0             0               0                 0   \n",
       "\n",
       "   edu_ Some-college  \n",
       "0                  0  \n",
       "1                  0  \n",
       "\n",
       "[2 rows x 30 columns]"
      ]
     },
     "execution_count": 13,
     "metadata": {},
     "output_type": "execute_result"
    }
   ],
   "source": [
    "#transform education_level into multiple columns with 0 and 1\n",
    "# use pd.concat to join the new columns with original dataframe\n",
    "df_YB2 = pd.concat([dfYB0,pd.get_dummies(df['edu_level'], prefix='edu')],axis=1)\n",
    "\n",
    "# now drop the original 'edu_level' column (you don't need it anymore)\n",
    "df_YB2.drop(['edu_level'],axis=1, inplace=True)\n",
    "df_YB2.head(2)"
   ]
  },
  {
   "cell_type": "code",
   "execution_count": 14,
   "metadata": {},
   "outputs": [
    {
     "data": {
      "image/png": "[encoded data removed]",
      "text/plain": [
       "<Figure size 432x288 with 1 Axes>"
      ]
     },
     "metadata": {
      "needs_background": "light"
     },
     "output_type": "display_data"
    },
    {
     "data": {
      "image/png": "[encoded data removed]",
      "text/plain": [
       "<Figure size 432x288 with 1 Axes>"
      ]
     },
     "metadata": {
      "needs_background": "light"
     },
     "output_type": "display_data"
    },
    {
     "data": {
      "image/png": "[encoded data removed]",
      "text/plain": [
       "<Figure size 432x288 with 1 Axes>"
      ]
     },
     "metadata": {
      "needs_background": "light"
     },
     "output_type": "display_data"
    },
    {
     "data": {
      "image/png": "[encoded data removed]",
      "text/plain": [
       "<Figure size 432x288 with 1 Axes>"
      ]
     },
     "metadata": {
      "needs_background": "light"
     },
     "output_type": "display_data"
    },
    {
     "data": {
      "image/png": "[encoded data removed]",
      "text/plain": [
       "<Figure size 432x288 with 1 Axes>"
      ]
     },
     "metadata": {
      "needs_background": "light"
     },
     "output_type": "display_data"
    },
    {
     "data": {
      "image/png": "[encoded data removed]",
      "text/plain": [
       "<Figure size 432x288 with 1 Axes>"
      ]
     },
     "metadata": {
      "needs_background": "light"
     },
     "output_type": "display_data"
    },
    {
     "data": {
      "image/png": "[encoded data removed]",
      "text/plain": [
       "<Figure size 432x288 with 1 Axes>"
      ]
     },
     "metadata": {
      "needs_background": "light"
     },
     "output_type": "display_data"
    },
    {
     "data": {
      "image/png": "[encoded data removed]",
      "text/plain": [
       "<Figure size 432x288 with 1 Axes>"
      ]
     },
     "metadata": {
      "needs_background": "light"
     },
     "output_type": "display_data"
    },
    {
     "data": {
      "image/png": "[encoded data removed]",
      "text/plain": [
       "<Figure size 432x288 with 1 Axes>"
      ]
     },
     "metadata": {
      "needs_background": "light"
     },
     "output_type": "display_data"
    },
    {
     "data": {
      "image/png": "[encoded data removed]",
      "text/plain": [
       "<Figure size 432x288 with 1 Axes>"
      ]
     },
     "metadata": {
      "needs_background": "light"
     },
     "output_type": "display_data"
    },
    {
     "data": {
      "image/png": "[encoded data removed]",
      "text/plain": [
       "<Figure size 432x288 with 1 Axes>"
      ]
     },
     "metadata": {
      "needs_background": "light"
     },
     "output_type": "display_data"
    },
    {
     "data": {
      "image/png": "[encoded data removed]",
      "text/plain": [
       "<Figure size 432x288 with 1 Axes>"
      ]
     },
     "metadata": {
      "needs_background": "light"
     },
     "output_type": "display_data"
    },
    {
     "data": {
      "image/png": "[encoded data removed]",
      "text/plain": [
       "<Figure size 432x288 with 1 Axes>"
      ]
     },
     "metadata": {
      "needs_background": "light"
     },
     "output_type": "display_data"
    },
    {
     "data": {
      "image/png": "[encoded data removed]",
      "text/plain": [
       "<Figure size 432x288 with 1 Axes>"
      ]
     },
     "metadata": {
      "needs_background": "light"
     },
     "output_type": "display_data"
    },
    {
     "data": {
      "image/png": "[encoded data removed]",
      "text/plain": [
       "<Figure size 432x288 with 1 Axes>"
      ]
     },
     "metadata": {
      "needs_background": "light"
     },
     "output_type": "display_data"
    },
    {
     "data": {
      "image/png": "[encoded data removed]",
      "text/plain": [
       "<Figure size 432x288 with 1 Axes>"
      ]
     },
     "metadata": {
      "needs_background": "light"
     },
     "output_type": "display_data"
    }
   ],
   "source": [
    "# visualize scatter plot edu_years and edu_level\n",
    "\n",
    "sns.scatterplot(x=\"edu_ Doctorate\", y=\"edu_years\", hue=\"income\", data=df_YB2)\n",
    "plt.show()\n",
    "\n",
    "sns.scatterplot(x=\"edu_ Prof-school\", y=\"edu_years\", hue=\"income\", data=df_YB2)\n",
    "plt.show()\n",
    "\n",
    "sns.scatterplot(x=\"edu_ Masters\", y=\"edu_years\", hue=\"income\", data=df_YB2)\n",
    "plt.show()\n",
    "\n",
    "sns.scatterplot(x=\"edu_ Bachelors\", y=\"edu_years\", hue=\"income\", data=df_YB2)\n",
    "plt.show()\n",
    "\n",
    "sns.scatterplot(x=\"edu_ Assoc-acdm\", y=\"edu_years\", hue=\"income\", data=df_YB2)\n",
    "plt.show()\n",
    "sns.scatterplot(x=\"edu_ Assoc-voc\", y=\"edu_years\", hue=\"income\", data=df_YB2)\n",
    "plt.show()\n",
    "sns.scatterplot(x=\"edu_ Some-college\", y=\"edu_years\", hue=\"income\", data=df_YB2)\n",
    "plt.show()\n",
    "\n",
    "sns.scatterplot(x=\"edu_ HS-grad\", y=\"edu_years\", hue=\"income\", data=df_YB2)\n",
    "plt.show()\n",
    "\n",
    "sns.scatterplot(x=\"edu_ 12th\", y=\"edu_years\", hue=\"income\", data=df_YB2)\n",
    "plt.show()\n",
    "sns.scatterplot(x=\"edu_ 11th\", y=\"edu_years\", hue=\"income\", data=df_YB2)\n",
    "plt.show()\n",
    "sns.scatterplot(x=\"edu_ 10th\", y=\"edu_years\", hue=\"income\", data=df_YB2)\n",
    "plt.show()\n",
    "sns.scatterplot(x=\"edu_ 9th\", y=\"edu_years\", hue=\"income\", data=df_YB2)\n",
    "plt.show()\n",
    "sns.scatterplot(x=\"edu_ 7th-8th\", y=\"edu_years\", hue=\"income\", data=df_YB2)\n",
    "plt.show()\n",
    "sns.scatterplot(x=\"edu_ 5th-6th\", y=\"edu_years\", hue=\"income\", data=df_YB2)\n",
    "plt.show()\n",
    "sns.scatterplot(x=\"edu_ 1st-4th\", y=\"edu_years\", hue=\"income\", data=df_YB2)\n",
    "plt.show()\n",
    "sns.scatterplot(x=\"edu_ Preschool\", y=\"edu_years\", hue=\"income\", data=df_YB2)\n",
    "plt.show()\n"
   ]
  },
  {
   "cell_type": "code",
   "execution_count": 15,
   "metadata": {},
   "outputs": [
    {
     "data": {
      "text/html": [
       "<div>\n",
       "<style scoped>\n",
       "    .dataframe tbody tr th:only-of-type {\n",
       "        vertical-align: middle;\n",
       "    }\n",
       "\n",
       "    .dataframe tbody tr th {\n",
       "        vertical-align: top;\n",
       "    }\n",
       "\n",
       "    .dataframe thead th {\n",
       "        text-align: right;\n",
       "    }\n",
       "</style>\n",
       "<table border=\"1\" class=\"dataframe\">\n",
       "  <thead>\n",
       "    <tr style=\"text-align: right;\">\n",
       "      <th></th>\n",
       "      <th>age</th>\n",
       "      <th>employ_type</th>\n",
       "      <th>pop_num</th>\n",
       "      <th>edu_years</th>\n",
       "      <th>marital</th>\n",
       "      <th>occ</th>\n",
       "      <th>relation</th>\n",
       "      <th>race</th>\n",
       "      <th>gender</th>\n",
       "      <th>cap_gain</th>\n",
       "      <th>...</th>\n",
       "      <th>hours_week</th>\n",
       "      <th>country_orig</th>\n",
       "      <th>income</th>\n",
       "      <th>edu_ Bachelors</th>\n",
       "      <th>edu_ Doctorate</th>\n",
       "      <th>edu_ HS-grad</th>\n",
       "      <th>edu_ Masters</th>\n",
       "      <th>edu_ Prof-school</th>\n",
       "      <th>edu_ SomeCollege</th>\n",
       "      <th>&lt;HS</th>\n",
       "    </tr>\n",
       "  </thead>\n",
       "  <tbody>\n",
       "    <tr>\n",
       "      <th>0</th>\n",
       "      <td>39</td>\n",
       "      <td>State-gov</td>\n",
       "      <td>77516</td>\n",
       "      <td>13</td>\n",
       "      <td>Never-married</td>\n",
       "      <td>Adm-clerical</td>\n",
       "      <td>Not-in-family</td>\n",
       "      <td>White</td>\n",
       "      <td>Male</td>\n",
       "      <td>2174</td>\n",
       "      <td>...</td>\n",
       "      <td>40</td>\n",
       "      <td>United-States</td>\n",
       "      <td>&lt;=50K</td>\n",
       "      <td>1</td>\n",
       "      <td>0</td>\n",
       "      <td>0</td>\n",
       "      <td>0</td>\n",
       "      <td>0</td>\n",
       "      <td>0</td>\n",
       "      <td>0</td>\n",
       "    </tr>\n",
       "    <tr>\n",
       "      <th>1</th>\n",
       "      <td>50</td>\n",
       "      <td>Self-emp-not-inc</td>\n",
       "      <td>83311</td>\n",
       "      <td>13</td>\n",
       "      <td>Married-civ-spouse</td>\n",
       "      <td>Exec-managerial</td>\n",
       "      <td>Husband</td>\n",
       "      <td>White</td>\n",
       "      <td>Male</td>\n",
       "      <td>0</td>\n",
       "      <td>...</td>\n",
       "      <td>13</td>\n",
       "      <td>United-States</td>\n",
       "      <td>&lt;=50K</td>\n",
       "      <td>1</td>\n",
       "      <td>0</td>\n",
       "      <td>0</td>\n",
       "      <td>0</td>\n",
       "      <td>0</td>\n",
       "      <td>0</td>\n",
       "      <td>0</td>\n",
       "    </tr>\n",
       "  </tbody>\n",
       "</table>\n",
       "<p>2 rows × 21 columns</p>\n",
       "</div>"
      ],
      "text/plain": [
       "   age        employ_type  pop_num  edu_years              marital  \\\n",
       "0   39          State-gov    77516         13        Never-married   \n",
       "1   50   Self-emp-not-inc    83311         13   Married-civ-spouse   \n",
       "\n",
       "                occ        relation    race gender  cap_gain  ...  hours_week  \\\n",
       "0      Adm-clerical   Not-in-family   White   Male      2174  ...          40   \n",
       "1   Exec-managerial         Husband   White   Male         0  ...          13   \n",
       "\n",
       "     country_orig  income edu_ Bachelors  edu_ Doctorate  edu_ HS-grad  \\\n",
       "0   United-States   <=50K              1               0             0   \n",
       "1   United-States   <=50K              1               0             0   \n",
       "\n",
       "   edu_ Masters  edu_ Prof-school  edu_ SomeCollege  <HS  \n",
       "0             0                 0                 0    0  \n",
       "1             0                 0                 0    0  \n",
       "\n",
       "[2 rows x 21 columns]"
      ]
     },
     "execution_count": 15,
     "metadata": {},
     "output_type": "execute_result"
    }
   ],
   "source": [
    "# from the above scatter plot for all education levels vs. education years, we see strict coorlation.\n",
    "# We have ovserved education < 8 years, income will always be <50k\n",
    "# There are too many education levels, as many of them has the similar impact to target income, \n",
    "# we will consider to consolidate.\n",
    "df_YB2['edu_ SomeCollege'] = df_YB2['edu_ Some-college'] + df_YB2['edu_ Assoc-acdm'] + df_YB2['edu_ Assoc-voc'] \n",
    "df_YB2['<HS'] = df_YB2['edu_ 12th'] + df_YB2['edu_ 11th'] + df_YB2['edu_ 10th'] + df_YB2['edu_ 9th'] + df_YB2['edu_ 7th-8th'] + df_YB2['edu_ 5th-6th']+ df_YB2['edu_ 1st-4th'] + df_YB2['edu_ Preschool'] \n",
    "\n",
    "df_YB3=df_YB2.drop(['edu_ Some-college','edu_ Assoc-acdm','edu_ Assoc-voc', 'edu_ 12th', 'edu_ 11th','edu_ 10th','edu_ 9th','edu_ 7th-8th','edu_ 7th-8th','edu_ 5th-6th','edu_ 1st-4th','edu_ Preschool'], 1)\n",
    "df_YB3.head(2)"
   ]
  },
  {
   "cell_type": "code",
   "execution_count": 16,
   "metadata": {},
   "outputs": [
    {
     "data": {
      "text/html": [
       "<div>\n",
       "<style scoped>\n",
       "    .dataframe tbody tr th:only-of-type {\n",
       "        vertical-align: middle;\n",
       "    }\n",
       "\n",
       "    .dataframe tbody tr th {\n",
       "        vertical-align: top;\n",
       "    }\n",
       "\n",
       "    .dataframe thead th {\n",
       "        text-align: right;\n",
       "    }\n",
       "</style>\n",
       "<table border=\"1\" class=\"dataframe\">\n",
       "  <thead>\n",
       "    <tr style=\"text-align: right;\">\n",
       "      <th></th>\n",
       "      <th>age</th>\n",
       "      <th>employ_type</th>\n",
       "      <th>pop_num</th>\n",
       "      <th>edu_years</th>\n",
       "      <th>marital</th>\n",
       "      <th>occ</th>\n",
       "      <th>relation</th>\n",
       "      <th>race</th>\n",
       "      <th>gender</th>\n",
       "      <th>hours_week</th>\n",
       "      <th>country_orig</th>\n",
       "      <th>income</th>\n",
       "      <th>edu_ Bachelors</th>\n",
       "      <th>edu_ Doctorate</th>\n",
       "      <th>edu_ HS-grad</th>\n",
       "      <th>edu_ Masters</th>\n",
       "      <th>edu_ Prof-school</th>\n",
       "      <th>edu_ SomeCollege</th>\n",
       "      <th>&lt;HS</th>\n",
       "      <th>cap_gain-loss</th>\n",
       "    </tr>\n",
       "  </thead>\n",
       "  <tbody>\n",
       "    <tr>\n",
       "      <th>0</th>\n",
       "      <td>39</td>\n",
       "      <td>State-gov</td>\n",
       "      <td>77516</td>\n",
       "      <td>13</td>\n",
       "      <td>Never-married</td>\n",
       "      <td>Adm-clerical</td>\n",
       "      <td>Not-in-family</td>\n",
       "      <td>White</td>\n",
       "      <td>Male</td>\n",
       "      <td>40</td>\n",
       "      <td>United-States</td>\n",
       "      <td>&lt;=50K</td>\n",
       "      <td>1</td>\n",
       "      <td>0</td>\n",
       "      <td>0</td>\n",
       "      <td>0</td>\n",
       "      <td>0</td>\n",
       "      <td>0</td>\n",
       "      <td>0</td>\n",
       "      <td>2174</td>\n",
       "    </tr>\n",
       "    <tr>\n",
       "      <th>1</th>\n",
       "      <td>50</td>\n",
       "      <td>Self-emp-not-inc</td>\n",
       "      <td>83311</td>\n",
       "      <td>13</td>\n",
       "      <td>Married-civ-spouse</td>\n",
       "      <td>Exec-managerial</td>\n",
       "      <td>Husband</td>\n",
       "      <td>White</td>\n",
       "      <td>Male</td>\n",
       "      <td>13</td>\n",
       "      <td>United-States</td>\n",
       "      <td>&lt;=50K</td>\n",
       "      <td>1</td>\n",
       "      <td>0</td>\n",
       "      <td>0</td>\n",
       "      <td>0</td>\n",
       "      <td>0</td>\n",
       "      <td>0</td>\n",
       "      <td>0</td>\n",
       "      <td>0</td>\n",
       "    </tr>\n",
       "  </tbody>\n",
       "</table>\n",
       "</div>"
      ],
      "text/plain": [
       "   age        employ_type  pop_num  edu_years              marital  \\\n",
       "0   39          State-gov    77516         13        Never-married   \n",
       "1   50   Self-emp-not-inc    83311         13   Married-civ-spouse   \n",
       "\n",
       "                occ        relation    race gender  hours_week  \\\n",
       "0      Adm-clerical   Not-in-family   White   Male          40   \n",
       "1   Exec-managerial         Husband   White   Male          13   \n",
       "\n",
       "     country_orig  income  edu_ Bachelors  edu_ Doctorate  edu_ HS-grad  \\\n",
       "0   United-States   <=50K               1               0             0   \n",
       "1   United-States   <=50K               1               0             0   \n",
       "\n",
       "   edu_ Masters  edu_ Prof-school  edu_ SomeCollege  <HS  cap_gain-loss  \n",
       "0             0                 0                 0    0           2174  \n",
       "1             0                 0                 0    0              0  "
      ]
     },
     "execution_count": 16,
     "metadata": {},
     "output_type": "execute_result"
    }
   ],
   "source": [
    "# merge capital gain and capital loss\n",
    "df_YB3['cap_gain-loss'] = df_YB3['cap_gain'] - df_YB3['cap_loss'] \n",
    "\n",
    "df_YB4=df_YB3.drop(['cap_gain','cap_loss'], 1)\n",
    "df_YB4.head(2)"
   ]
  },
  {
   "cell_type": "code",
   "execution_count": null,
   "metadata": {},
   "outputs": [],
   "source": []
  },
  {
   "cell_type": "code",
   "execution_count": null,
   "metadata": {},
   "outputs": [],
   "source": []
  },
  {
   "cell_type": "markdown",
   "metadata": {},
   "source": [
    "## <font color=blue>EXCEPTIONAL WORK (10 POINTS)</font>\n",
    "\n",
    "**You have free reign to provide additional analyses. One idea: implement dimensionality reduction, then visualize and interpret the results.**"
   ]
  },
  {
   "cell_type": "code",
   "execution_count": 95,
   "metadata": {},
   "outputs": [
    {
     "data": {
      "text/html": [
       "<div>\n",
       "<style scoped>\n",
       "    .dataframe tbody tr th:only-of-type {\n",
       "        vertical-align: middle;\n",
       "    }\n",
       "\n",
       "    .dataframe tbody tr th {\n",
       "        vertical-align: top;\n",
       "    }\n",
       "\n",
       "    .dataframe thead th {\n",
       "        text-align: right;\n",
       "    }\n",
       "</style>\n",
       "<table border=\"1\" class=\"dataframe\">\n",
       "  <thead>\n",
       "    <tr style=\"text-align: right;\">\n",
       "      <th></th>\n",
       "      <th>age</th>\n",
       "      <th>employ_type</th>\n",
       "      <th>edu_years</th>\n",
       "      <th>marital</th>\n",
       "      <th>occ</th>\n",
       "      <th>relation</th>\n",
       "      <th>race</th>\n",
       "      <th>gender</th>\n",
       "      <th>hours_week</th>\n",
       "      <th>country_orig</th>\n",
       "      <th>income</th>\n",
       "      <th>edu_ Bachelors</th>\n",
       "      <th>edu_ Doctorate</th>\n",
       "      <th>edu_ HS-grad</th>\n",
       "      <th>edu_ Masters</th>\n",
       "      <th>edu_ Prof-school</th>\n",
       "      <th>edu_ SomeCollege</th>\n",
       "      <th>&lt;HS</th>\n",
       "      <th>cap_gain-loss</th>\n",
       "    </tr>\n",
       "  </thead>\n",
       "  <tbody>\n",
       "    <tr>\n",
       "      <th>0</th>\n",
       "      <td>39</td>\n",
       "      <td>State-gov</td>\n",
       "      <td>13</td>\n",
       "      <td>Never-married</td>\n",
       "      <td>Adm-clerical</td>\n",
       "      <td>Not-in-family</td>\n",
       "      <td>White</td>\n",
       "      <td>Male</td>\n",
       "      <td>40</td>\n",
       "      <td>United-States</td>\n",
       "      <td>&lt;=50K</td>\n",
       "      <td>1</td>\n",
       "      <td>0</td>\n",
       "      <td>0</td>\n",
       "      <td>0</td>\n",
       "      <td>0</td>\n",
       "      <td>0</td>\n",
       "      <td>0</td>\n",
       "      <td>2174</td>\n",
       "    </tr>\n",
       "    <tr>\n",
       "      <th>1</th>\n",
       "      <td>50</td>\n",
       "      <td>Self-emp-not-inc</td>\n",
       "      <td>13</td>\n",
       "      <td>Married-civ-spouse</td>\n",
       "      <td>Exec-managerial</td>\n",
       "      <td>Husband</td>\n",
       "      <td>White</td>\n",
       "      <td>Male</td>\n",
       "      <td>13</td>\n",
       "      <td>United-States</td>\n",
       "      <td>&lt;=50K</td>\n",
       "      <td>1</td>\n",
       "      <td>0</td>\n",
       "      <td>0</td>\n",
       "      <td>0</td>\n",
       "      <td>0</td>\n",
       "      <td>0</td>\n",
       "      <td>0</td>\n",
       "      <td>0</td>\n",
       "    </tr>\n",
       "    <tr>\n",
       "      <th>2</th>\n",
       "      <td>38</td>\n",
       "      <td>Private</td>\n",
       "      <td>9</td>\n",
       "      <td>Divorced</td>\n",
       "      <td>Handlers-cleaners</td>\n",
       "      <td>Not-in-family</td>\n",
       "      <td>White</td>\n",
       "      <td>Male</td>\n",
       "      <td>40</td>\n",
       "      <td>United-States</td>\n",
       "      <td>&lt;=50K</td>\n",
       "      <td>0</td>\n",
       "      <td>0</td>\n",
       "      <td>1</td>\n",
       "      <td>0</td>\n",
       "      <td>0</td>\n",
       "      <td>0</td>\n",
       "      <td>0</td>\n",
       "      <td>0</td>\n",
       "    </tr>\n",
       "    <tr>\n",
       "      <th>3</th>\n",
       "      <td>53</td>\n",
       "      <td>Private</td>\n",
       "      <td>7</td>\n",
       "      <td>Married-civ-spouse</td>\n",
       "      <td>Handlers-cleaners</td>\n",
       "      <td>Husband</td>\n",
       "      <td>Black</td>\n",
       "      <td>Male</td>\n",
       "      <td>40</td>\n",
       "      <td>United-States</td>\n",
       "      <td>&lt;=50K</td>\n",
       "      <td>0</td>\n",
       "      <td>0</td>\n",
       "      <td>0</td>\n",
       "      <td>0</td>\n",
       "      <td>0</td>\n",
       "      <td>0</td>\n",
       "      <td>1</td>\n",
       "      <td>0</td>\n",
       "    </tr>\n",
       "    <tr>\n",
       "      <th>4</th>\n",
       "      <td>28</td>\n",
       "      <td>Private</td>\n",
       "      <td>13</td>\n",
       "      <td>Married-civ-spouse</td>\n",
       "      <td>Prof-specialty</td>\n",
       "      <td>Wife</td>\n",
       "      <td>Black</td>\n",
       "      <td>Female</td>\n",
       "      <td>40</td>\n",
       "      <td>Cuba</td>\n",
       "      <td>&lt;=50K</td>\n",
       "      <td>1</td>\n",
       "      <td>0</td>\n",
       "      <td>0</td>\n",
       "      <td>0</td>\n",
       "      <td>0</td>\n",
       "      <td>0</td>\n",
       "      <td>0</td>\n",
       "      <td>0</td>\n",
       "    </tr>\n",
       "  </tbody>\n",
       "</table>\n",
       "</div>"
      ],
      "text/plain": [
       "   age        employ_type  edu_years              marital                 occ  \\\n",
       "0   39          State-gov         13        Never-married        Adm-clerical   \n",
       "1   50   Self-emp-not-inc         13   Married-civ-spouse     Exec-managerial   \n",
       "2   38            Private          9             Divorced   Handlers-cleaners   \n",
       "3   53            Private          7   Married-civ-spouse   Handlers-cleaners   \n",
       "4   28            Private         13   Married-civ-spouse      Prof-specialty   \n",
       "\n",
       "         relation    race   gender  hours_week    country_orig  income  \\\n",
       "0   Not-in-family   White     Male          40   United-States   <=50K   \n",
       "1         Husband   White     Male          13   United-States   <=50K   \n",
       "2   Not-in-family   White     Male          40   United-States   <=50K   \n",
       "3         Husband   Black     Male          40   United-States   <=50K   \n",
       "4            Wife   Black   Female          40            Cuba   <=50K   \n",
       "\n",
       "   edu_ Bachelors  edu_ Doctorate  edu_ HS-grad  edu_ Masters  \\\n",
       "0               1               0             0             0   \n",
       "1               1               0             0             0   \n",
       "2               0               0             1             0   \n",
       "3               0               0             0             0   \n",
       "4               1               0             0             0   \n",
       "\n",
       "   edu_ Prof-school  edu_ SomeCollege  <HS  cap_gain-loss  \n",
       "0                 0                 0    0           2174  \n",
       "1                 0                 0    0              0  \n",
       "2                 0                 0    0              0  \n",
       "3                 0                 0    1              0  \n",
       "4                 0                 0    0              0  "
      ]
     },
     "execution_count": 95,
     "metadata": {},
     "output_type": "execute_result"
    }
   ],
   "source": [
    "# population number is a assigned index number, it has no meansing or contribution to our target income. \n",
    "# We can simply drop pop_num.\n",
    "df_YB5=df_YB4.drop(['pop_num'], 1)\n",
    "df_YB5.head()\n",
    "#df_YB5.info()"
   ]
  },
  {
   "cell_type": "code",
   "execution_count": 96,
   "metadata": {},
   "outputs": [
    {
     "data": {
      "text/html": [
       "<div>\n",
       "<style scoped>\n",
       "    .dataframe tbody tr th:only-of-type {\n",
       "        vertical-align: middle;\n",
       "    }\n",
       "\n",
       "    .dataframe tbody tr th {\n",
       "        vertical-align: top;\n",
       "    }\n",
       "\n",
       "    .dataframe thead th {\n",
       "        text-align: right;\n",
       "    }\n",
       "</style>\n",
       "<table border=\"1\" class=\"dataframe\">\n",
       "  <thead>\n",
       "    <tr style=\"text-align: right;\">\n",
       "      <th></th>\n",
       "      <th>age</th>\n",
       "      <th>employ_type</th>\n",
       "      <th>edu_years</th>\n",
       "      <th>marital</th>\n",
       "      <th>occ</th>\n",
       "      <th>relation</th>\n",
       "      <th>race</th>\n",
       "      <th>gender</th>\n",
       "      <th>hours_week</th>\n",
       "      <th>country_orig</th>\n",
       "      <th>income</th>\n",
       "      <th>edu_ Bachelors</th>\n",
       "      <th>edu_ Doctorate</th>\n",
       "      <th>edu_ HS-grad</th>\n",
       "      <th>edu_ Masters</th>\n",
       "      <th>edu_ Prof-school</th>\n",
       "      <th>edu_ SomeCollege</th>\n",
       "      <th>&lt;HS</th>\n",
       "      <th>cap_gain-loss</th>\n",
       "    </tr>\n",
       "  </thead>\n",
       "  <tbody>\n",
       "    <tr>\n",
       "      <th>0</th>\n",
       "      <td>39</td>\n",
       "      <td>State-gov</td>\n",
       "      <td>13</td>\n",
       "      <td>Never-married</td>\n",
       "      <td>Adm-clerical</td>\n",
       "      <td>Not-in-family</td>\n",
       "      <td>White</td>\n",
       "      <td>Male</td>\n",
       "      <td>40</td>\n",
       "      <td>United-States</td>\n",
       "      <td>0</td>\n",
       "      <td>1</td>\n",
       "      <td>0</td>\n",
       "      <td>0</td>\n",
       "      <td>0</td>\n",
       "      <td>0</td>\n",
       "      <td>0</td>\n",
       "      <td>0</td>\n",
       "      <td>2174</td>\n",
       "    </tr>\n",
       "    <tr>\n",
       "      <th>1</th>\n",
       "      <td>50</td>\n",
       "      <td>Self-emp-not-inc</td>\n",
       "      <td>13</td>\n",
       "      <td>Married-civ-spouse</td>\n",
       "      <td>Exec-managerial</td>\n",
       "      <td>Husband</td>\n",
       "      <td>White</td>\n",
       "      <td>Male</td>\n",
       "      <td>13</td>\n",
       "      <td>United-States</td>\n",
       "      <td>0</td>\n",
       "      <td>1</td>\n",
       "      <td>0</td>\n",
       "      <td>0</td>\n",
       "      <td>0</td>\n",
       "      <td>0</td>\n",
       "      <td>0</td>\n",
       "      <td>0</td>\n",
       "      <td>0</td>\n",
       "    </tr>\n",
       "    <tr>\n",
       "      <th>2</th>\n",
       "      <td>38</td>\n",
       "      <td>Private</td>\n",
       "      <td>9</td>\n",
       "      <td>Divorced</td>\n",
       "      <td>Handlers-cleaners</td>\n",
       "      <td>Not-in-family</td>\n",
       "      <td>White</td>\n",
       "      <td>Male</td>\n",
       "      <td>40</td>\n",
       "      <td>United-States</td>\n",
       "      <td>0</td>\n",
       "      <td>0</td>\n",
       "      <td>0</td>\n",
       "      <td>1</td>\n",
       "      <td>0</td>\n",
       "      <td>0</td>\n",
       "      <td>0</td>\n",
       "      <td>0</td>\n",
       "      <td>0</td>\n",
       "    </tr>\n",
       "    <tr>\n",
       "      <th>3</th>\n",
       "      <td>53</td>\n",
       "      <td>Private</td>\n",
       "      <td>7</td>\n",
       "      <td>Married-civ-spouse</td>\n",
       "      <td>Handlers-cleaners</td>\n",
       "      <td>Husband</td>\n",
       "      <td>Black</td>\n",
       "      <td>Male</td>\n",
       "      <td>40</td>\n",
       "      <td>United-States</td>\n",
       "      <td>0</td>\n",
       "      <td>0</td>\n",
       "      <td>0</td>\n",
       "      <td>0</td>\n",
       "      <td>0</td>\n",
       "      <td>0</td>\n",
       "      <td>0</td>\n",
       "      <td>1</td>\n",
       "      <td>0</td>\n",
       "    </tr>\n",
       "    <tr>\n",
       "      <th>4</th>\n",
       "      <td>28</td>\n",
       "      <td>Private</td>\n",
       "      <td>13</td>\n",
       "      <td>Married-civ-spouse</td>\n",
       "      <td>Prof-specialty</td>\n",
       "      <td>Wife</td>\n",
       "      <td>Black</td>\n",
       "      <td>Female</td>\n",
       "      <td>40</td>\n",
       "      <td>Cuba</td>\n",
       "      <td>0</td>\n",
       "      <td>1</td>\n",
       "      <td>0</td>\n",
       "      <td>0</td>\n",
       "      <td>0</td>\n",
       "      <td>0</td>\n",
       "      <td>0</td>\n",
       "      <td>0</td>\n",
       "      <td>0</td>\n",
       "    </tr>\n",
       "  </tbody>\n",
       "</table>\n",
       "</div>"
      ],
      "text/plain": [
       "   age        employ_type  edu_years              marital                 occ  \\\n",
       "0   39          State-gov         13        Never-married        Adm-clerical   \n",
       "1   50   Self-emp-not-inc         13   Married-civ-spouse     Exec-managerial   \n",
       "2   38            Private          9             Divorced   Handlers-cleaners   \n",
       "3   53            Private          7   Married-civ-spouse   Handlers-cleaners   \n",
       "4   28            Private         13   Married-civ-spouse      Prof-specialty   \n",
       "\n",
       "         relation    race   gender  hours_week    country_orig  income  \\\n",
       "0   Not-in-family   White     Male          40   United-States       0   \n",
       "1         Husband   White     Male          13   United-States       0   \n",
       "2   Not-in-family   White     Male          40   United-States       0   \n",
       "3         Husband   Black     Male          40   United-States       0   \n",
       "4            Wife   Black   Female          40            Cuba       0   \n",
       "\n",
       "   edu_ Bachelors  edu_ Doctorate  edu_ HS-grad  edu_ Masters  \\\n",
       "0               1               0             0             0   \n",
       "1               1               0             0             0   \n",
       "2               0               0             1             0   \n",
       "3               0               0             0             0   \n",
       "4               1               0             0             0   \n",
       "\n",
       "   edu_ Prof-school  edu_ SomeCollege  <HS  cap_gain-loss  \n",
       "0                 0                 0    0           2174  \n",
       "1                 0                 0    0              0  \n",
       "2                 0                 0    0              0  \n",
       "3                 0                 0    1              0  \n",
       "4                 0                 0    0              0  "
      ]
     },
     "execution_count": 96,
     "metadata": {},
     "output_type": "execute_result"
    }
   ],
   "source": [
    "# This dataset has many categorial varibles. To enable prediction analysis, we need to transform categorial varibles\n",
    "# to numeric in some way. The simple and popular method is one hot shot, each value of categorial varibles will \n",
    "# become a column/feature. \n",
    "# This dramatically increase the dimensionality of the dataset. we should find a way to reduce the value set.\n",
    "\n",
    "# We have done the reduction on capital gain/loss and education level/year in new feature discussion. \n",
    "# Occupation and native country still stands out as categorial varibles that has too many values. \n",
    "# We will check for similarity and impact to income prediction, then look for reasonable ways to combine them \n",
    "\n",
    "# Binary encoding of the target variable\n",
    "\n",
    "df_YB5['income'] = df_YB5['income'].apply(lambda inc: 0 if inc ==\" <=50K\" else 1) \n",
    "df_YB5.head()"
   ]
  },
  {
   "cell_type": "code",
   "execution_count": 97,
   "metadata": {},
   "outputs": [
    {
     "data": {
      "text/plain": [
       "[Text(0, 0.5, 'Fraction of people with income > $50k')]"
      ]
     },
     "execution_count": 97,
     "metadata": {},
     "output_type": "execute_result"
    },
    {
     "data": {
      "image/png": "[encoded data removed]",
      "text/plain": [
       "<Figure size 720x360 with 1 Axes>"
      ]
     },
     "metadata": {
      "needs_background": "light"
     },
     "output_type": "display_data"
    },
    {
     "data": {
      "image/png": "[encoded data removed]",
      "text/plain": [
       "<Figure size 1440x432 with 1 Axes>"
      ]
     },
     "metadata": {
      "needs_background": "light"
     },
     "output_type": "display_data"
    }
   ],
   "source": [
    "# Take a look at the %age income distribution of the dataset\n",
    "plt.figure(figsize=(10,5))\n",
    "sns.countplot(df_YB5['income'])\n",
    "\n",
    "# Bar plot of occ with 95% confidence interval of mean\n",
    "plt.figure(figsize=(20,6))\n",
    "ax=sns.barplot(x='occ', y='income', data=df_YB5)\n",
    "ax.set(ylabel='Fraction of people with income > $50k')"
   ]
  },
  {
   "cell_type": "code",
   "execution_count": null,
   "metadata": {},
   "outputs": [],
   "source": [
    "# Only less than 25% of population has income >50k\n",
    "# occupation vs. income really do not have a visible direct coorlation\n",
    "# Armed Forces confidence interval is so wide, due to extreme small number of samples.  "
   ]
  },
  {
   "cell_type": "code",
   "execution_count": 98,
   "metadata": {},
   "outputs": [
    {
     "data": {
      "image/png": "[encoded data removed]",
      "text/plain": [
       "<Figure size 432x288 with 1 Axes>"
      ]
     },
     "metadata": {},
     "output_type": "display_data"
    }
   ],
   "source": [
    "# pie chart to visualize occ value %age\n",
    "labels = df_YB5['occ'].astype('category').cat.categories.tolist()\n",
    "counts = df_YB5['occ'].value_counts()\n",
    "sizes = [counts[var_cat] for var_cat in labels]\n",
    "fig1, ax1 = plt.subplots()\n",
    "ax1.pie(sizes, labels=labels, autopct='%1.1f%%', shadow=True)\n",
    "ax1.axis('equal')\n",
    "plt.show()"
   ]
  },
  {
   "cell_type": "code",
   "execution_count": 100,
   "metadata": {},
   "outputs": [
    {
     "name": "stdout",
     "output_type": "stream",
     "text": [
      "<class 'pandas.core.frame.DataFrame'>\n",
      "RangeIndex: 32561 entries, 0 to 32560\n",
      "Data columns (total 19 columns):\n",
      "age                 32561 non-null int64\n",
      "employ_type         32561 non-null object\n",
      "edu_years           32561 non-null int64\n",
      "marital             32561 non-null object\n",
      "occ                 32561 non-null object\n",
      "relation            32561 non-null object\n",
      "race                32561 non-null object\n",
      "gender              32561 non-null object\n",
      "hours_week          32561 non-null int64\n",
      "country_orig        32561 non-null object\n",
      "income              32561 non-null int64\n",
      "edu_ Bachelors      32561 non-null uint8\n",
      "edu_ Doctorate      32561 non-null uint8\n",
      "edu_ HS-grad        32561 non-null uint8\n",
      "edu_ Masters        32561 non-null uint8\n",
      "edu_ Prof-school    32561 non-null uint8\n",
      "edu_ SomeCollege    32561 non-null uint8\n",
      "<HS                 32561 non-null uint8\n",
      "cap_gain-loss       32561 non-null int64\n",
      "dtypes: int64(5), object(7), uint8(7)\n",
      "memory usage: 3.2+ MB\n",
      "None\n"
     ]
    }
   ],
   "source": [
    "# confirming occ varible has no significant dominant value\n",
    "# Armed-Forces is exetreme small number, consider to combine it with other-services and other-cat\n",
    "df_YB6=df_YB5\n",
    "df_YB6['occ'] = df_YB6['occ'].str.replace('Other-service','Other_cat')\n",
    "df_YB6['occ'] = df_YB6['occ'].str.replace('Armed-Forces','Other_cat')\n",
    "#print (df_YB6['occ'].value_counts())\n",
    "#print (df_YB6['country_orig'].value_counts())\n",
    "print (df_YB6.info())"
   ]
  },
  {
   "cell_type": "code",
   "execution_count": 101,
   "metadata": {},
   "outputs": [
    {
     "data": {
      "image/png": "[encoded data removed]",
      "text/plain": [
       "<Figure size 432x288 with 1 Axes>"
      ]
     },
     "metadata": {},
     "output_type": "display_data"
    }
   ],
   "source": [
    "# pie chart to visualize native country value %age\n",
    "labels = df_YB6['country_orig'].astype('category').cat.categories.tolist()\n",
    "counts = df_YB6['country_orig'].value_counts()\n",
    "sizes = [counts[var_cat] for var_cat in labels]\n",
    "fig1, ax1 = plt.subplots()\n",
    "ax1.pie(sizes, labels=labels, autopct='%1.1f%%', shadow=True)\n",
    "ax1.axis('equal')\n",
    "plt.show()"
   ]
  },
  {
   "cell_type": "code",
   "execution_count": 102,
   "metadata": {},
   "outputs": [
    {
     "name": "stdout",
     "output_type": "stream",
     "text": [
      " United-States                 29170\n",
      " Mexico                          643\n",
      " Other_cat                       583\n",
      " Philippines                     198\n",
      " Germany                         137\n",
      " Canada                          121\n",
      " Puerto-Rico                     114\n",
      " El-Salvador                     106\n",
      " India                           100\n",
      " Cuba                             95\n",
      " England                          90\n",
      " Jamaica                          81\n",
      " South                            80\n",
      " China                            75\n",
      " Italy                            73\n",
      " Dominican-Republic               70\n",
      " Vietnam                          67\n",
      " Guatemala                        64\n",
      " Japan                            62\n",
      " Poland                           60\n",
      " Columbia                         59\n",
      " Taiwan                           51\n",
      " Haiti                            44\n",
      " Iran                             43\n",
      " Portugal                         37\n",
      " Nicaragua                        34\n",
      " Peru                             31\n",
      " Greece                           29\n",
      " France                           29\n",
      " Ecuador                          28\n",
      " Ireland                          24\n",
      " Hong                             20\n",
      " Cambodia                         19\n",
      " Trinadad&Tobago                  19\n",
      " Thailand                         18\n",
      " Laos                             18\n",
      " Yugoslavia                       16\n",
      " Outlying-US(Guam-USVI-etc)       14\n",
      " Honduras                         13\n",
      " Hungary                          13\n",
      " Scotland                         12\n",
      " Holand-Netherlands                1\n",
      "Name: country_orig, dtype: int64\n",
      "3391 people are not from the United States\n"
     ]
    }
   ],
   "source": [
    "# checking number of peoples not from US\n",
    "print(df_YB6['country_orig'].value_counts())\n",
    "not_from_US = np.sum(df_YB6['country_orig']!=' United-States')\n",
    "print(not_from_US, 'people are not from the United States')"
   ]
  },
  {
   "cell_type": "code",
   "execution_count": 103,
   "metadata": {},
   "outputs": [
    {
     "data": {
      "text/plain": [
       "<matplotlib.axes._subplots.AxesSubplot at 0x7f4abd6de908>"
      ]
     },
     "execution_count": 103,
     "metadata": {},
     "output_type": "execute_result"
    },
    {
     "data": {
      "image/png": "[encoded data removed]",
      "text/plain": [
       "<Figure size 720x360 with 1 Axes>"
      ]
     },
     "metadata": {
      "needs_background": "light"
     },
     "output_type": "display_data"
    }
   ],
   "source": [
    "# ~10% people are not from US, combine all none US into a single value, code native country into binary 1=United-States\n",
    "df_YB7=df_YB6\n",
    "#df_YB7['country_orig'] = (df_YB7['country_orig']=='United-States')*1\n",
    "df_YB7['country_orig'] = df_YB7['country_orig'].apply(lambda inc: 1 if inc ==\" United-States\" else 0) \n",
    "# checking  the result\n",
    "plt.figure(figsize=(10,5))\n",
    "sns.countplot(df_YB7['country_orig'])"
   ]
  },
  {
   "cell_type": "code",
   "execution_count": null,
   "metadata": {},
   "outputs": [],
   "source": [
    "# If we take a step back to look at the population that we try to collect information to predict if their income\n",
    "# is greater than 50k. There are other significant factor (features/variables) can contribute to the target \n",
    "# prediction. For example, field of study, if one graduate college with liberal art degree vs. a computer \n",
    "# science degree; another example maybe crimial records. "
   ]
  }
 ],
 "metadata": {
  "kernelspec": {
   "display_name": "Python 3",
   "language": "python",
   "name": "python3"
  },
  "language_info": {
   "codemirror_mode": {
    "name": "ipython",
    "version": 3
   },
   "file_extension": ".py",
   "mimetype": "text/x-python",
   "name": "python",
   "nbconvert_exporter": "python",
   "pygments_lexer": "ipython3",
   "version": "3.7.3"
  }
 },
 "nbformat": 4,
 "nbformat_minor": 2
}
