{
 "cells": [
  {
   "cell_type": "markdown",
   "metadata": {},
   "source": [
    "ASSIGNMENT 1"
   ]
  },
  {
   "cell_type": "markdown",
   "metadata": {},
   "source": [
    "BUSINESS UNDERSTANDING (10 POINTS)\n",
    "\n",
    "Describe the purpose of the data set you selected:\n",
    "\n",
    "We used the dataset provided by rgriffen on Kaggle (https://www.kaggle.com/heesoo37/120-years-of-olympic-history-athletes-and-results) that is a historical dataset on the modern Olympic games, including all the Games from Athens 1896 to Rio 2016.  The data was scraped from www.sports-reference.com in May 2018.  The dataset contains 271,116 rows and 15 columns. Each row represents an individual athlete competing in an individual Olympic event and contains basic physical characteristics (gender, age, height, weight), characterstics of the event they participated in, and outcome. \n",
    "\n",
    "The purpose of the data set is to determine within the modern Summer Olympics era (Summer Games 1975-2016), which characteristics of the athlete and Olympic event had the most bearing on medal outcome.\n",
    "\n",
    "A good prediction algorithm would establish a relationship or correlation between a specific attribute or group of attributes with the probability of earning a gold, silver, or bronze medal."
   ]
  },
  {
   "cell_type": "markdown",
   "metadata": {},
   "source": [
    "#DATA MEANING TYPE (10 POINTS)\n",
    "#Describe the meaning and type of data (scale, values, etc.) for each attribute in the data file."
   ]
  },
  {
   "cell_type": "code",
   "execution_count": 3,
   "metadata": {},
   "outputs": [],
   "source": [
    "#DATA QUALITY (15 POINTS)\n",
    "#Verify data quality: Explain any missing values, duplicate data, and outliers. Are those mistakes? How do you deal with these \n",
    "#problems? Give justifications for your methods."
   ]
  },
  {
   "cell_type": "code",
   "execution_count": 4,
   "metadata": {},
   "outputs": [],
   "source": [
    "#SIMPLE STATISTICS (10 POINTS)\n",
    "#Visualize appropriate statistics (e.g., range, mode, mean, median, variance, counts) for a subset of attributes. Describe \n",
    "#anything meaningful you found from this or if you found something potentially interesting. Note: You can also use data from \n",
    "#other sources for comparison. Explain why the statistics run are meaningful."
   ]
  },
  {
   "cell_type": "code",
   "execution_count": 5,
   "metadata": {},
   "outputs": [],
   "source": [
    "#VISUALIZE ATTRIBUTES (15 POINTS)\n",
    "#Visualize the most interesting attributes (at least 5 attributes, your opinion on what is interesting). Important: Interpret \n",
    "#the implications for each visualization. Explain for each attribute why the chosen visualization is appropriate."
   ]
  },
  {
   "cell_type": "code",
   "execution_count": 6,
   "metadata": {},
   "outputs": [],
   "source": [
    "#EXPLORE JOINT ATTRIBUTES (15 POINTS)\n",
    "#Visualize relationships between attributes: Look at the attributes via scatter plots, correlation, cross-tabulation, \n",
    "#group-wise averages, etc. as appropriate. Explain any interesting relationships."
   ]
  },
  {
   "cell_type": "code",
   "execution_count": 7,
   "metadata": {},
   "outputs": [],
   "source": [
    "#EXPLORE ATTRIBUTES AND CLASS (10 POINTS)\n",
    "#Identify and explain interesting relationships between features and the class you are trying to predict (i.e., relationships \n",
    "#with variables and the target classification)."
   ]
  },
  {
   "cell_type": "code",
   "execution_count": 8,
   "metadata": {},
   "outputs": [],
   "source": [
    "#NEW FEATURES (5 POINTS)\n",
    "#Are there other features that could be added to the data or created from existing features? Which ones?"
   ]
  },
  {
   "cell_type": "code",
   "execution_count": null,
   "metadata": {},
   "outputs": [],
   "source": [
    "#EXCEPTIONAL WORK (10 POINTS)\n",
    "#You have free reign to provide additional analyses. One idea: implement dimensionality reduction, then visualize and interpret \n",
    "#the results."
   ]
  }
 ],
 "metadata": {
  "kernelspec": {
   "display_name": "Python [conda env:py27]",
   "language": "python",
   "name": "conda-env-py27-py"
  },
  "language_info": {
   "codemirror_mode": {
    "name": "ipython",
    "version": 2
   },
   "file_extension": ".py",
   "mimetype": "text/x-python",
   "name": "python",
   "nbconvert_exporter": "python",
   "pygments_lexer": "ipython2",
   "version": "2.7.16"
  }
 },
 "nbformat": 4,
 "nbformat_minor": 2
}
