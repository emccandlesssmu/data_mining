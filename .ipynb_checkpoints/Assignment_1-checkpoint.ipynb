{
 "cells": [
  {
   "cell_type": "markdown",
   "metadata": {},
   "source": [
    "# <font color=black>ASSIGNMENT 1</font>"
   ]
  },
  {
   "cell_type": "markdown",
   "metadata": {},
   "source": [
    "## <font color=blue>BUSINESS UNDERSTANDING (10 POINTS)</font>\n",
    "\n",
    "**Describe the purpose of the data set you selected:**\n",
    "\n",
    "We used the \"adult\" dataset from the UCI Machine Learning Repository (https://archive.ics.uci.edu/ml/datasets/Adult).  The dataset contains 1994 Census data.  It has 48,842 records and 14 attributes. Each record represents demographic information about an individual. \n",
    "\n",
    "The purpose of the data set was to determine which demographic attribute had the most impact on whether or not a person's income is less than or equal to 50,000 dollars or greater than 50,000 dollars.  \n",
    "\n",
    "A good prediction algorithm would establish a relationship or correlation between a specific attribute or group of attributes with the probability of income being <=50,000 dollars or >50,000 dollars."
   ]
  },
  {
   "cell_type": "markdown",
   "metadata": {},
   "source": [
    "## <font color=blue>DATA MEANING TYPE (10 POINTS)</font>\n",
    "\n",
    "**Describe the meaning and type of data (scale, values, etc.) for each attribute in the data file:**\n",
    "\n",
    "We will take the following steps to accomplish this task:\n",
    "\n",
    "- Read in dataset and add attribute names.  This dataset does not have attribute names in the file, but UCI lists the names on the site.  \n",
    "- List the attributes and the corresponding value type.\n",
    "- List basic statistics to see the min and max for any integer attributes.\n",
    "- List the categories for the categorical attributes.\n",
    "- Provide list of attributes with meaning, data type and values/scale."
   ]
  },
  {
   "cell_type": "code",
   "execution_count": 1,
   "metadata": {
    "scrolled": false
   },
   "outputs": [
    {
     "data": {
      "text/html": [
       "<div>\n",
       "<style scoped>\n",
       "    .dataframe tbody tr th:only-of-type {\n",
       "        vertical-align: middle;\n",
       "    }\n",
       "\n",
       "    .dataframe tbody tr th {\n",
       "        vertical-align: top;\n",
       "    }\n",
       "\n",
       "    .dataframe thead th {\n",
       "        text-align: right;\n",
       "    }\n",
       "</style>\n",
       "<table border=\"1\" class=\"dataframe\">\n",
       "  <thead>\n",
       "    <tr style=\"text-align: right;\">\n",
       "      <th></th>\n",
       "      <th>age</th>\n",
       "      <th>employ_type</th>\n",
       "      <th>pop_num</th>\n",
       "      <th>edu_level</th>\n",
       "      <th>edu_years</th>\n",
       "      <th>marital</th>\n",
       "      <th>occ</th>\n",
       "      <th>relation</th>\n",
       "      <th>race</th>\n",
       "      <th>gender</th>\n",
       "      <th>cap_gain</th>\n",
       "      <th>cap_loss</th>\n",
       "      <th>hours_week</th>\n",
       "      <th>country_orig</th>\n",
       "      <th>income</th>\n",
       "    </tr>\n",
       "  </thead>\n",
       "  <tbody>\n",
       "    <tr>\n",
       "      <th>0</th>\n",
       "      <td>39</td>\n",
       "      <td>State-gov</td>\n",
       "      <td>77516</td>\n",
       "      <td>Bachelors</td>\n",
       "      <td>13</td>\n",
       "      <td>Never-married</td>\n",
       "      <td>Adm-clerical</td>\n",
       "      <td>Not-in-family</td>\n",
       "      <td>White</td>\n",
       "      <td>Male</td>\n",
       "      <td>2174</td>\n",
       "      <td>0</td>\n",
       "      <td>40</td>\n",
       "      <td>United-States</td>\n",
       "      <td>&lt;=50K</td>\n",
       "    </tr>\n",
       "    <tr>\n",
       "      <th>1</th>\n",
       "      <td>50</td>\n",
       "      <td>Self-emp-not-inc</td>\n",
       "      <td>83311</td>\n",
       "      <td>Bachelors</td>\n",
       "      <td>13</td>\n",
       "      <td>Married-civ-spouse</td>\n",
       "      <td>Exec-managerial</td>\n",
       "      <td>Husband</td>\n",
       "      <td>White</td>\n",
       "      <td>Male</td>\n",
       "      <td>0</td>\n",
       "      <td>0</td>\n",
       "      <td>13</td>\n",
       "      <td>United-States</td>\n",
       "      <td>&lt;=50K</td>\n",
       "    </tr>\n",
       "  </tbody>\n",
       "</table>\n",
       "</div>"
      ],
      "text/plain": [
       "   age        employ_type  pop_num   edu_level  edu_years  \\\n",
       "0   39          State-gov    77516   Bachelors         13   \n",
       "1   50   Self-emp-not-inc    83311   Bachelors         13   \n",
       "\n",
       "               marital               occ        relation    race gender  \\\n",
       "0        Never-married      Adm-clerical   Not-in-family   White   Male   \n",
       "1   Married-civ-spouse   Exec-managerial         Husband   White   Male   \n",
       "\n",
       "   cap_gain  cap_loss  hours_week    country_orig  income  \n",
       "0      2174         0          40   United-States   <=50K  \n",
       "1         0         0          13   United-States   <=50K  "
      ]
     },
     "execution_count": 1,
     "metadata": {},
     "output_type": "execute_result"
    }
   ],
   "source": [
    "#Read in dataset and add attribute names and check.\n",
    "import pandas as pd\n",
    "col_names = ['age', 'employ_type', 'pop_num', 'edu_level', 'edu_years', 'marital', 'occ', 'relation', 'race', 'gender', 'cap_gain', 'cap_loss', 'hours_week', 'country_orig', 'income']\n",
    "df = pd.read_csv('adult.csv', names=col_names, header=None)\n",
    "df.head(2)"
   ]
  },
  {
   "cell_type": "code",
   "execution_count": 3,
   "metadata": {
    "scrolled": true
   },
   "outputs": [
    {
     "name": "stdout",
     "output_type": "stream",
     "text": [
      "<class 'pandas.core.frame.DataFrame'>\n",
      "RangeIndex: 32561 entries, 0 to 32560\n",
      "Data columns (total 15 columns):\n",
      "age             32561 non-null int64\n",
      "employ_type     32561 non-null object\n",
      "pop_num         32561 non-null int64\n",
      "edu_level       32561 non-null object\n",
      "edu_years       32561 non-null int64\n",
      "marital         32561 non-null object\n",
      "occ             32561 non-null object\n",
      "relation        32561 non-null object\n",
      "race            32561 non-null object\n",
      "gender          32561 non-null object\n",
      "cap_gain        32561 non-null int64\n",
      "cap_loss        32561 non-null int64\n",
      "hours_week      32561 non-null int64\n",
      "country_orig    32561 non-null object\n",
      "income          32561 non-null object\n",
      "dtypes: int64(6), object(9)\n",
      "memory usage: 3.7+ MB\n",
      "None\n"
     ]
    }
   ],
   "source": [
    "#List the attributes and the corresponding value type.\n",
    "print (df.info())"
   ]
  },
  {
   "cell_type": "code",
   "execution_count": 17,
   "metadata": {},
   "outputs": [
    {
     "name": "stdout",
     "output_type": "stream",
     "text": [
      "                age       pop_num     edu_years      cap_gain      cap_loss  \\\n",
      "count  32561.000000  3.256100e+04  32561.000000  32561.000000  32561.000000   \n",
      "mean      38.581647  1.897784e+05     10.080679   1077.648844     87.303830   \n",
      "std       13.640433  1.055500e+05      2.572720   7385.292085    402.960219   \n",
      "min       17.000000  1.228500e+04      1.000000      0.000000      0.000000   \n",
      "25%       28.000000  1.178270e+05      9.000000      0.000000      0.000000   \n",
      "50%       37.000000  1.783560e+05     10.000000      0.000000      0.000000   \n",
      "75%       48.000000  2.370510e+05     12.000000      0.000000      0.000000   \n",
      "max       90.000000  1.484705e+06     16.000000  99999.000000   4356.000000   \n",
      "\n",
      "         hours_week  \n",
      "count  32561.000000  \n",
      "mean      40.437456  \n",
      "std       12.347429  \n",
      "min        1.000000  \n",
      "25%       40.000000  \n",
      "50%       40.000000  \n",
      "75%       45.000000  \n",
      "max       99.000000  \n"
     ]
    }
   ],
   "source": [
    "#List basic statistics to see the min and max for any integer attributes.\n",
    "print df.describe()"
   ]
  },
  {
   "cell_type": "code",
   "execution_count": 4,
   "metadata": {},
   "outputs": [
    {
     "name": "stdout",
     "output_type": "stream",
     "text": [
      " Private             22696\n",
      " Self-emp-not-inc     2541\n",
      " Local-gov            2093\n",
      " ?                    1836\n",
      " State-gov            1298\n",
      " Self-emp-inc         1116\n",
      " Federal-gov           960\n",
      " Without-pay            14\n",
      " Never-worked            7\n",
      "Name: employ_type, dtype: int64\n",
      " HS-grad         10501\n",
      " Some-college     7291\n",
      " Bachelors        5355\n",
      " Masters          1723\n",
      " Assoc-voc        1382\n",
      " 11th             1175\n",
      " Assoc-acdm       1067\n",
      " 10th              933\n",
      " 7th-8th           646\n",
      " Prof-school       576\n",
      " 9th               514\n",
      " 12th              433\n",
      " Doctorate         413\n",
      " 5th-6th           333\n",
      " 1st-4th           168\n",
      " Preschool          51\n",
      "Name: edu_level, dtype: int64\n",
      " Married-civ-spouse       14976\n",
      " Never-married            10683\n",
      " Divorced                  4443\n",
      " Separated                 1025\n",
      " Widowed                    993\n",
      " Married-spouse-absent      418\n",
      " Married-AF-spouse           23\n",
      "Name: marital, dtype: int64\n",
      " Prof-specialty       4140\n",
      " Craft-repair         4099\n",
      " Exec-managerial      4066\n",
      " Adm-clerical         3770\n",
      " Sales                3650\n",
      " Other-service        3295\n",
      " Machine-op-inspct    2002\n",
      " ?                    1843\n",
      " Transport-moving     1597\n",
      " Handlers-cleaners    1370\n",
      " Farming-fishing       994\n",
      " Tech-support          928\n",
      " Protective-serv       649\n",
      " Priv-house-serv       149\n",
      " Armed-Forces            9\n",
      "Name: occ, dtype: int64\n",
      " Husband           13193\n",
      " Not-in-family      8305\n",
      " Own-child          5068\n",
      " Unmarried          3446\n",
      " Wife               1568\n",
      " Other-relative      981\n",
      "Name: relation, dtype: int64\n",
      " White                 27816\n",
      " Black                  3124\n",
      " Asian-Pac-Islander     1039\n",
      " Amer-Indian-Eskimo      311\n",
      " Other                   271\n",
      "Name: race, dtype: int64\n",
      " Male      21790\n",
      " Female    10771\n",
      "Name: gender, dtype: int64\n",
      " United-States                 29170\n",
      " Mexico                          643\n",
      " ?                               583\n",
      " Philippines                     198\n",
      " Germany                         137\n",
      " Canada                          121\n",
      " Puerto-Rico                     114\n",
      " El-Salvador                     106\n",
      " India                           100\n",
      " Cuba                             95\n",
      " England                          90\n",
      " Jamaica                          81\n",
      " South                            80\n",
      " China                            75\n",
      " Italy                            73\n",
      " Dominican-Republic               70\n",
      " Vietnam                          67\n",
      " Guatemala                        64\n",
      " Japan                            62\n",
      " Poland                           60\n",
      " Columbia                         59\n",
      " Taiwan                           51\n",
      " Haiti                            44\n",
      " Iran                             43\n",
      " Portugal                         37\n",
      " Nicaragua                        34\n",
      " Peru                             31\n",
      " Greece                           29\n",
      " France                           29\n",
      " Ecuador                          28\n",
      " Ireland                          24\n",
      " Hong                             20\n",
      " Trinadad&Tobago                  19\n",
      " Cambodia                         19\n",
      " Laos                             18\n",
      " Thailand                         18\n",
      " Yugoslavia                       16\n",
      " Outlying-US(Guam-USVI-etc)       14\n",
      " Hungary                          13\n",
      " Honduras                         13\n",
      " Scotland                         12\n",
      " Holand-Netherlands                1\n",
      "Name: country_orig, dtype: int64\n",
      " <=50K    24720\n",
      " >50K      7841\n",
      "Name: income, dtype: int64\n"
     ]
    }
   ],
   "source": [
    "#List the categories for the categorical attributes.\n",
    "print (df['employ_type'].value_counts())\n",
    "print (df['edu_level'].value_counts())\n",
    "print (df['marital'].value_counts())\n",
    "print (df['occ'].value_counts())\n",
    "print (df['relation'].value_counts())\n",
    "print (df['race'].value_counts())\n",
    "print (df['gender'].value_counts())\n",
    "print (df['country_orig'].value_counts())\n",
    "print (df['income'].value_counts())"
   ]
  },
  {
   "cell_type": "markdown",
   "metadata": {},
   "source": [
    "**List of attributes with data type and values/scale.**\n",
    "\n",
    "\n",
    "| Attribute    | Data Type | Description                                                          | Values/Scale                                                                                                                                                                                                                                                                                                                                                                                                                             |   |\n",
    "|--------------|-----------|----------------------------------------------------------------------|------------------------------------------------------------------------------------------------------------------------------------------------------------------------------------------------------------------------------------------------------------------------------------------------------------------------------------------------------------------------------------------------------------------------------------------|:-:|\n",
    "| age          | integer   | Age                                                                  | 17 - 90                                                                                                                                                                                                                                                                                                                                                                                                                                  |   |\n",
    "| employ_type  | nominal   | Type of employment                                                   | Private, Self­-emp­-not-­inc, Self-­emp-­inc, Federal­-gov, Local­-gov, State-­gov, Without-pay, Never-worked                                                                                                                                                                                                                                                                                                                            |   |\n",
    "| pop_num      | integer   | # of people the Census believes the entry represents                 | 12,285 - 1,484,705                                                                                                                                                                                                                                                                                                                                                                                                                       |   |\n",
    "| edu_level    | nominal   | Education level                                                      | Preschool, 1st-4th, 5th-6th, 7th-8th, 9th, 10th, 11th, 12th, HS-grad, Prof-school, Some­-college, Assoc­-acdm, Assoc­-voc, Bachelors, Masters, Doctorate                                                                                                                                                                                                                                                                                 |   |\n",
    "| edu_years    | integer   | Years of education                                                   | 1 - 16                                                                                                                                                                                                                                                                                                                                                                                                                                   |   |\n",
    "| marital      | nominal   | Marital status                                                       | Married­-civ-­spouse (civilian spouse), Divorced, Never­-married, Separated, Widowed, Married­-spouse-­absent, Married­-AF­-spouse (married with spouse in Armed Forces)                                                                                                                                                                                                                                                                 |   |\n",
    "| occ          | nominal   | Occupation                                                           | Tech-­support, Craft­-repair, Other-­service, Sales, Exec­-managerial, Prof­-specialty, Handlers-­cleaners, Machine­-op-­inspct, Adm­-clerical, Farming-fishing, Transport-­moving, Priv­-house-­serv, Protective­-serv, Armed­-Forces.                                                                                                                                                                                                  |   |\n",
    "| relation     | nominal   | Represents what this individual is relative to others. e.g., husband | Husband, Not-in-family, Own-child, Unmarried, Wife, Other-relative                                                                                                                                                                                                                                                                                                                                                                       |   |\n",
    "| race         | nominal   | Race                                                                 | White, Black, Asian_Pac_Islander, Amer-Indian-Eskimo, Other                                                                                                                                                                                                                                                                                                                                                                              |   |\n",
    "| gender       | nominal   | Gender                                                               | Male, Female                                                                                                                                                                                                                                                                                                                                                                                                                             |   |\n",
    "| cap_gain     | integer   | Capital gains (dollars)                                                        | 0 - 99,999                                                                                                                                                                                                                                                                                                                                                                                                                             |   |\n",
    "| cap_loss     | integer   | Capital loss (dollars)                                                        | 0 - 4,356                                                                                                                                                                                                                                                                                                                                                                                                                              |   |\n",
    "| hours_week   | integer   | Hours worked per week                                                | 1 - 99                                                                                                                                                                                                                                                                                                                                                                                                                                   |   |\n",
    "| country_orig | nominal   | Native country                                                       | United­-States, Cambodia, England, Puerto-­Rico, Canada, Germany, Outlying­-US(Guam­-US-VI-­etc), India, Japan, Greece, South, China, Cuba, Iran, Honduras, Philippines, Italy, Poland, Jamaica, Vietnam, Mexico, Portugal, Ireland, France, Dominican­-Republic, Laos, Ecuador, Taiwan, Haiti, Columbia, Hungary, Guatemala, Nicaragua, Scotland, Thailand, Yugoslavia, El­-Salvador, Trinadad&Tobago, Peru, Hong, Holand­-Netherlands. |   |\n",
    "| income       | nominal   | Income level (dollars)                                                         | <=50K, >50K                                                                                                                                                                                                                                                                                                                                                                                                                            |   |\n",
    "\n",
    "\n",
    "\n"
   ]
  },
  {
   "cell_type": "markdown",
   "metadata": {},
   "source": [
    "## <font color=blue>DATA QUALITY (15 POINTS)</font>\n",
    "\n",
    "**Verify data quality: Explain any missing values, duplicate data, and outliers. Are those mistakes? How do you deal with these \n",
    "problems? Give justifications for your methods.**\n",
    "\n",
    "From the analysis conducted above, we discovered that the following 3 categorical attributes have missing data points:\n",
    "\n",
    "- employ_type (Type of employment) - 1,836 missing data points (5.6% of records)\n",
    "- occ (Occupation) - 1,843 missing data points (5.7% or records)\n",
    "- country_orig (Native country) - 583 missing data points (1.8% of records)\n",
    "\n",
    "We are not intimately familiar with the data set and are unable to determine if these missing data points are Missing at Random (MAR), Missing Completely at Random (MCAR) or Missing Not at Random (MNAR).  For this reason, we feel that it would be risky to remove the missing records associated with the data points.  Additionally, we would like have as much data as possible.  Therefore, we chose to create new \"Other_cat\" category for missing values within each of these attributes.\n",
    "\n",
    "Additionally, we discovered that there are no missing values for the integer variables, however, there are several \"0\" values within the capital gains and capital loss attributes.  At first, we treated these \"0\" values as missing values and imputed a mean.  But, after a team discussion we decided to leave the \"0\" values as is because there we assume there could be cases where there could be 0 capital gains and 0 capital losses."
   ]
  },
  {
   "cell_type": "code",
   "execution_count": 7,
   "metadata": {},
   "outputs": [
    {
     "name": "stdout",
     "output_type": "stream",
     "text": [
      " Private             22696\n",
      " Self-emp-not-inc     2541\n",
      " Local-gov            2093\n",
      " Other_cat            1836\n",
      " State-gov            1298\n",
      " Self-emp-inc         1116\n",
      " Federal-gov           960\n",
      " Without-pay            14\n",
      " Never-worked            7\n",
      "Name: employ_type, dtype: int64\n",
      " Prof-specialty       4140\n",
      " Craft-repair         4099\n",
      " Exec-managerial      4066\n",
      " Adm-clerical         3770\n",
      " Sales                3650\n",
      " Other-service        3295\n",
      " Machine-op-inspct    2002\n",
      " Other_cat            1843\n",
      " Transport-moving     1597\n",
      " Handlers-cleaners    1370\n",
      " Farming-fishing       994\n",
      " Tech-support          928\n",
      " Protective-serv       649\n",
      " Priv-house-serv       149\n",
      " Armed-Forces            9\n",
      "Name: occ, dtype: int64\n",
      " United-States                 29170\n",
      " Mexico                          643\n",
      " Other_cat                       583\n",
      " Philippines                     198\n",
      " Germany                         137\n",
      " Canada                          121\n",
      " Puerto-Rico                     114\n",
      " El-Salvador                     106\n",
      " India                           100\n",
      " Cuba                             95\n",
      " England                          90\n",
      " Jamaica                          81\n",
      " South                            80\n",
      " China                            75\n",
      " Italy                            73\n",
      " Dominican-Republic               70\n",
      " Vietnam                          67\n",
      " Guatemala                        64\n",
      " Japan                            62\n",
      " Poland                           60\n",
      " Columbia                         59\n",
      " Taiwan                           51\n",
      " Haiti                            44\n",
      " Iran                             43\n",
      " Portugal                         37\n",
      " Nicaragua                        34\n",
      " Peru                             31\n",
      " France                           29\n",
      " Greece                           29\n",
      " Ecuador                          28\n",
      " Ireland                          24\n",
      " Hong                             20\n",
      " Trinadad&Tobago                  19\n",
      " Cambodia                         19\n",
      " Thailand                         18\n",
      " Laos                             18\n",
      " Yugoslavia                       16\n",
      " Outlying-US(Guam-USVI-etc)       14\n",
      " Hungary                          13\n",
      " Honduras                         13\n",
      " Scotland                         12\n",
      " Holand-Netherlands                1\n",
      "Name: country_orig, dtype: int64\n"
     ]
    }
   ],
   "source": [
    "#Replace \"?\" with \"Other_cat\" and check\n",
    "df['employ_type'] = df['employ_type'].str.replace('?','Other_cat')\n",
    "df['occ'] = df['occ'].str.replace('?','Other_cat')\n",
    "df['country_orig'] = df['country_orig'].str.replace('?','Other_cat')\n",
    "print (df['employ_type'].value_counts())\n",
    "print (df['occ'].value_counts())\n",
    "print (df['country_orig'].value_counts())"
   ]
  },
  {
   "cell_type": "code",
   "execution_count": 11,
   "metadata": {},
   "outputs": [
    {
     "data": {
      "image/png": "[encoded data removed]",
      "text/plain": [
       "<Figure size 432x288 with 1 Axes>"
      ]
     },
     "metadata": {},
     "output_type": "display_data"
    }
   ],
   "source": []
  },
  {
   "cell_type": "code",
   "execution_count": 4,
   "metadata": {},
   "outputs": [],
   "source": [
    "#SIMPLE STATISTICS (10 POINTS)\n",
    "#Visualize appropriate statistics (e.g., range, mode, mean, median, variance, counts) for a subset of attributes. Describe \n",
    "#anything meaningful you found from this or if you found something potentially interesting. Note: You can also use data from \n",
    "#other sources for comparison. Explain why the statistics run are meaningful."
   ]
  },
  {
   "cell_type": "code",
   "execution_count": 5,
   "metadata": {},
   "outputs": [],
   "source": [
    "#VISUALIZE ATTRIBUTES (15 POINTS)\n",
    "#Visualize the most interesting attributes (at least 5 attributes, your opinion on what is interesting). Important: Interpret \n",
    "#the implications for each visualization. Explain for each attribute why the chosen visualization is appropriate."
   ]
  },
  {
   "cell_type": "code",
   "execution_count": 6,
   "metadata": {},
   "outputs": [],
   "source": [
    "#EXPLORE JOINT ATTRIBUTES (15 POINTS)\n",
    "#Visualize relationships between attributes: Look at the attributes via scatter plots, correlation, cross-tabulation, \n",
    "#group-wise averages, etc. as appropriate. Explain any interesting relationships."
   ]
  },
  {
   "cell_type": "code",
   "execution_count": 7,
   "metadata": {},
   "outputs": [],
   "source": [
    "#EXPLORE ATTRIBUTES AND CLASS (10 POINTS)\n",
    "#Identify and explain interesting relationships between features and the class you are trying to predict (i.e., relationships \n",
    "#with variables and the target classification)."
   ]
  },
  {
   "cell_type": "code",
   "execution_count": 8,
   "metadata": {},
   "outputs": [],
   "source": [
    "#NEW FEATURES (5 POINTS)\n",
    "#Are there other features that could be added to the data or created from existing features? Which ones?"
   ]
  },
  {
   "cell_type": "code",
   "execution_count": null,
   "metadata": {},
   "outputs": [],
   "source": [
    "#EXCEPTIONAL WORK (10 POINTS)\n",
    "#You have free reign to provide additional analyses. One idea: implement dimensionality reduction, then visualize and interpret \n",
    "#the results."
   ]
  }
 ],
 "metadata": {
  "kernelspec": {
   "display_name": "Python 3",
   "language": "python",
   "name": "python3"
  },
  "language_info": {
   "codemirror_mode": {
    "name": "ipython",
    "version": 3
   },
   "file_extension": ".py",
   "mimetype": "text/x-python",
   "name": "python",
   "nbconvert_exporter": "python",
   "pygments_lexer": "ipython3",
   "version": "3.6.5"
  }
 },
 "nbformat": 4,
 "nbformat_minor": 2
}
