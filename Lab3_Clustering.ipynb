{
 "cells": [
  {
   "cell_type": "markdown",
   "metadata": {},
   "source": [
    "# <font color=red>SMU DS 7331 DATA MINING - LAB 3 CLUSTERING</font>\n",
    "\n",
    "**Team Members:**\n",
    "- YuMei Bennett\n",
    "- Liang Huang\n",
    "- Ganesh Kodi\n",
    "- Eric McCandless"
   ]
  },
  {
   "cell_type": "markdown",
   "metadata": {},
   "source": [
    "## <font color=blue>Business Understanding (10 points total)</font>\n",
    "\n",
    "**[10 points] Describe the purpose of the data set you selected (i.e., why was this data collected in the first place?). How will you measure the effectiveness of a good algorithm? Why does your chosen validation method make sense for this specific\n",
    "dataset and the stakeholders needs?**"
   ]
  },
  {
   "cell_type": "markdown",
   "metadata": {},
   "source": [
    "We used the \"adult\" dataset from the UCI Machine Learning Repository (https://archive.ics.uci.edu/ml/datasets/Adult).  The dataset contains 1994 Census data.  It has 48,842 records and 14 attributes. Each record represents demographic information about an individual. \n",
    "\n",
    "The data was originally collected to predict income levels for individuals based on demographic attributes.  Here, we are going to perform a Cluster analysis using the following two variables from the data set to identify groups of objects that show evidence of homogeneity.   \n",
    "- Years of Education\n",
    "- Occupation\n",
    "\n",
    "We will run 3 different clustering algorithms and measure the effectiveness of each:\n",
    "- k-means\n",
    "- Hierarchical\n",
    "- DBScan\n",
    "\n",
    "The effectiveness of the algorithm will be measured by the methods shown below.  These validation methods make the most sense as we want to know how many individuals were classified correctly and we want to minimize running time.\n",
    "- Visualizations\n",
    "- Accuracy\n",
    "- Time of algorithm"
   ]
  },
  {
   "cell_type": "markdown",
   "metadata": {},
   "source": [
    "## <font color=blue>Data Understanding (20 points total)</font>\n",
    "\n",
    "**[10 points] Describe the meaning and type of data (scale, values, etc.) for each attribute in the data file. Verify data quality: Are there missing values? Duplicate data? Outliers? Are those mistakes? How do you deal with these problems?**\n",
    "\n",
    "**[10 points] Visualize the any important attributes appropriately. Important: Provide an interpretation for any charts or graphs.**"
   ]
  },
  {
   "cell_type": "markdown",
   "metadata": {},
   "source": [
    "The following tasks were accomplished in this section:\n",
    "\n",
    "- Read in oringinal dataset and add attribute names.\n",
    "- Dropped all but two attributes to include in analysis (Years of education and Occupaton).\n",
    "- Evaluated and described meaning and type of data.\n",
    "- Re-categorized missing data values in Occupation (\"?\") to \"Other_category.\"\n",
    "- Simple data visualizations"
   ]
  },
  {
   "cell_type": "code",
   "execution_count": 58,
   "metadata": {
    "scrolled": true
   },
   "outputs": [
    {
     "data": {
      "text/html": [
       "<div>\n",
       "<style scoped>\n",
       "    .dataframe tbody tr th:only-of-type {\n",
       "        vertical-align: middle;\n",
       "    }\n",
       "\n",
       "    .dataframe tbody tr th {\n",
       "        vertical-align: top;\n",
       "    }\n",
       "\n",
       "    .dataframe thead th {\n",
       "        text-align: right;\n",
       "    }\n",
       "</style>\n",
       "<table border=\"1\" class=\"dataframe\">\n",
       "  <thead>\n",
       "    <tr style=\"text-align: right;\">\n",
       "      <th></th>\n",
       "      <th>edu_years</th>\n",
       "      <th>occ</th>\n",
       "    </tr>\n",
       "  </thead>\n",
       "  <tbody>\n",
       "    <tr>\n",
       "      <th>0</th>\n",
       "      <td>13</td>\n",
       "      <td>Adm-clerical</td>\n",
       "    </tr>\n",
       "    <tr>\n",
       "      <th>1</th>\n",
       "      <td>13</td>\n",
       "      <td>Exec-managerial</td>\n",
       "    </tr>\n",
       "  </tbody>\n",
       "</table>\n",
       "</div>"
      ],
      "text/plain": [
       "   edu_years               occ\n",
       "0         13      Adm-clerical\n",
       "1         13   Exec-managerial"
      ]
     },
     "execution_count": 58,
     "metadata": {},
     "output_type": "execute_result"
    }
   ],
   "source": [
    "#Read in dataset and add attribute names and check.\n",
    "import pandas as pd\n",
    "col_names = ['age', 'employ_type', 'pop_num', 'edu_level', 'edu_years', 'marital', 'occ', 'relation', 'race', 'gender', 'cap_gain', 'cap_loss', 'hours_week', 'country_orig', 'income']\n",
    "df = pd.read_csv('adult.csv', names=col_names, header=None)\n",
    "\n",
    "\n",
    "#Select only the Years of Education and Occupation variables for dataframe to conduct Cluster analysis.\n",
    "df1 = df.filter(['edu_years','occ'], axis=1)\n",
    "df1.head(2)"
   ]
  },
  {
   "cell_type": "code",
   "execution_count": 59,
   "metadata": {},
   "outputs": [
    {
     "name": "stdout",
     "output_type": "stream",
     "text": [
      "<class 'pandas.core.frame.DataFrame'>\n",
      "RangeIndex: 32561 entries, 0 to 32560\n",
      "Data columns (total 2 columns):\n",
      "edu_years    32561 non-null int64\n",
      "occ          32561 non-null object\n",
      "dtypes: int64(1), object(1)\n",
      "memory usage: 508.8+ KB\n",
      "None\n"
     ]
    }
   ],
   "source": [
    "#List the attributes and the corresponding value type.\n",
    "print (df1.info())"
   ]
  },
  {
   "cell_type": "code",
   "execution_count": 60,
   "metadata": {},
   "outputs": [
    {
     "name": "stdout",
     "output_type": "stream",
     "text": [
      "          edu_years\n",
      "count  32561.000000\n",
      "mean      10.080679\n",
      "std        2.572720\n",
      "min        1.000000\n",
      "25%        9.000000\n",
      "50%       10.000000\n",
      "75%       12.000000\n",
      "max       16.000000\n"
     ]
    }
   ],
   "source": [
    "#List basic statistics to see the min and max for Years of Education attribute.\n",
    "print (df1.describe())"
   ]
  },
  {
   "cell_type": "code",
   "execution_count": 61,
   "metadata": {},
   "outputs": [
    {
     "name": "stdout",
     "output_type": "stream",
     "text": [
      " Prof-specialty       4140\n",
      " Craft-repair         4099\n",
      " Exec-managerial      4066\n",
      " Adm-clerical         3770\n",
      " Sales                3650\n",
      " Other-service        3295\n",
      " Machine-op-inspct    2002\n",
      " ?                    1843\n",
      " Transport-moving     1597\n",
      " Handlers-cleaners    1370\n",
      " Farming-fishing       994\n",
      " Tech-support          928\n",
      " Protective-serv       649\n",
      " Priv-house-serv       149\n",
      " Armed-Forces            9\n",
      "Name: occ, dtype: int64\n"
     ]
    }
   ],
   "source": [
    "#List the categories for Occupation attribute.\n",
    "print (df['occ'].value_counts())"
   ]
  },
  {
   "cell_type": "markdown",
   "metadata": {},
   "source": [
    "Based on the analysis above and source material, here are the two attributes with data type and values/scale.\n",
    "\n",
    "\n",
    "| Attribute    | Data Type | Description                                                          | Values/Scale                                                                                                                                                                                                                                                                                                                                                                                                                             |   |\n",
    "|--------------|-----------|----------------------------------------------------------------------|------------------------------------------------------------------------------------------------------------------------------------------------------------------------------------------------------------------------------------------------------------------------------------------------------------------------------------------------------------------------------------------------------------------------------------------|:-:|\n",
    "                                                                                                                                                                                                                                                           |   |\n",
    "| edu_years    | integer   | Years of education                                                   | 1 - 16                                                                                                                                                                                                                                                                                                                                                                                                                                                                                                                                                                                                                                                                      |   |\n",
    "| occ          | nominal   | Occupation                                                           | Tech-­support, Craft­-repair, Other-­service, Sales, Exec­-managerial, Prof­-specialty, Handlers-­cleaners, Machine­-op-­inspct, Adm­-clerical, Farming-fishing, Transport-­moving, Priv­-house-­serv, Protective­-serv, Armed­-Forces, ?   "
   ]
  },
  {
   "cell_type": "markdown",
   "metadata": {},
   "source": [
    "Handling missing values:  There are missing values in Occupation.  These were transformed to \"Other_category\" value.  \n",
    "\n",
    "Handling outliers:  Not concerned about outliers for Years of Education as the range is 1-16."
   ]
  },
  {
   "cell_type": "code",
   "execution_count": 63,
   "metadata": {},
   "outputs": [
    {
     "data": {
      "text/html": [
       "<div>\n",
       "<style scoped>\n",
       "    .dataframe tbody tr th:only-of-type {\n",
       "        vertical-align: middle;\n",
       "    }\n",
       "\n",
       "    .dataframe tbody tr th {\n",
       "        vertical-align: top;\n",
       "    }\n",
       "\n",
       "    .dataframe thead th {\n",
       "        text-align: right;\n",
       "    }\n",
       "</style>\n",
       "<table border=\"1\" class=\"dataframe\">\n",
       "  <thead>\n",
       "    <tr style=\"text-align: right;\">\n",
       "      <th></th>\n",
       "      <th>edu_years</th>\n",
       "      <th>occ__ Adm-clerical</th>\n",
       "      <th>occ__ Armed-Forces</th>\n",
       "      <th>occ__ Craft-repair</th>\n",
       "      <th>occ__ Exec-managerial</th>\n",
       "      <th>occ__ Farming-fishing</th>\n",
       "      <th>occ__ Handlers-cleaners</th>\n",
       "      <th>occ__ Machine-op-inspct</th>\n",
       "      <th>occ__ Other-service</th>\n",
       "      <th>occ__ Other_category</th>\n",
       "      <th>occ__ Priv-house-serv</th>\n",
       "      <th>occ__ Prof-specialty</th>\n",
       "      <th>occ__ Protective-serv</th>\n",
       "      <th>occ__ Sales</th>\n",
       "      <th>occ__ Tech-support</th>\n",
       "      <th>occ__ Transport-moving</th>\n",
       "    </tr>\n",
       "  </thead>\n",
       "  <tbody>\n",
       "    <tr>\n",
       "      <th>0</th>\n",
       "      <td>13</td>\n",
       "      <td>1</td>\n",
       "      <td>0</td>\n",
       "      <td>0</td>\n",
       "      <td>0</td>\n",
       "      <td>0</td>\n",
       "      <td>0</td>\n",
       "      <td>0</td>\n",
       "      <td>0</td>\n",
       "      <td>0</td>\n",
       "      <td>0</td>\n",
       "      <td>0</td>\n",
       "      <td>0</td>\n",
       "      <td>0</td>\n",
       "      <td>0</td>\n",
       "      <td>0</td>\n",
       "    </tr>\n",
       "    <tr>\n",
       "      <th>1</th>\n",
       "      <td>13</td>\n",
       "      <td>0</td>\n",
       "      <td>0</td>\n",
       "      <td>0</td>\n",
       "      <td>1</td>\n",
       "      <td>0</td>\n",
       "      <td>0</td>\n",
       "      <td>0</td>\n",
       "      <td>0</td>\n",
       "      <td>0</td>\n",
       "      <td>0</td>\n",
       "      <td>0</td>\n",
       "      <td>0</td>\n",
       "      <td>0</td>\n",
       "      <td>0</td>\n",
       "      <td>0</td>\n",
       "    </tr>\n",
       "  </tbody>\n",
       "</table>\n",
       "</div>"
      ],
      "text/plain": [
       "   edu_years  occ__ Adm-clerical  occ__ Armed-Forces  occ__ Craft-repair  \\\n",
       "0         13                   1                   0                   0   \n",
       "1         13                   0                   0                   0   \n",
       "\n",
       "   occ__ Exec-managerial  occ__ Farming-fishing  occ__ Handlers-cleaners  \\\n",
       "0                      0                      0                        0   \n",
       "1                      1                      0                        0   \n",
       "\n",
       "   occ__ Machine-op-inspct  occ__ Other-service  occ__ Other_category  \\\n",
       "0                        0                    0                     0   \n",
       "1                        0                    0                     0   \n",
       "\n",
       "   occ__ Priv-house-serv  occ__ Prof-specialty  occ__ Protective-serv  \\\n",
       "0                      0                     0                      0   \n",
       "1                      0                     0                      0   \n",
       "\n",
       "   occ__ Sales  occ__ Tech-support  occ__ Transport-moving  \n",
       "0            0                   0                       0  \n",
       "1            0                   0                       0  "
      ]
     },
     "execution_count": 63,
     "metadata": {},
     "output_type": "execute_result"
    }
   ],
   "source": [
    "#import all necessary modules\n",
    "import pandas as pd\n",
    "import matplotlib.pyplot as plt\n",
    "import numpy as np\n",
    "from sklearn.preprocessing import Imputer\n",
    "import seaborn as sns\n",
    "\n",
    "#Replace \"?\" with \"Other_category\" in Occupation attribute\n",
    "df1['occ'] = df1['occ'].str.replace('?','Other_category')\n",
    "\n",
    "#Transform Occupation into multiple columns with 0 and 1\n",
    "# use pd.concat to join the new columns with original dataframe then drop the original 'Occupation' column (don't need it anymore)\n",
    "df2 = pd.concat([df1,pd.get_dummies(df1['occ'], prefix='occ_')],axis=1)\n",
    "df2.drop(['occ'],axis=1, inplace=True)\n",
    "\n",
    "df2.head(2)"
   ]
  },
  {
   "cell_type": "markdown",
   "metadata": {},
   "source": [
    "**Data Visualizations**"
   ]
  },
  {
   "cell_type": "markdown",
   "metadata": {},
   "source": [
    "Looking at the distribution of Years of Education, we see that most ages are in the 9 to 13 years range with median around 10."
   ]
  },
  {
   "cell_type": "code",
   "execution_count": 64,
   "metadata": {
    "scrolled": true
   },
   "outputs": [
    {
     "data": {
      "text/plain": [
       "<matplotlib.axes._subplots.AxesSubplot at 0x892b668>"
      ]
     },
     "execution_count": 64,
     "metadata": {},
     "output_type": "execute_result"
    },
    {
     "data": {
      "image/png": "[encoded data removed]",
      "text/plain": [
       "<Figure size 432x288 with 2 Axes>"
      ]
     },
     "metadata": {},
     "output_type": "display_data"
    }
   ],
   "source": [
    "# Check the distribution of Years of Education\n",
    "f, (ax_box, ax_hist) = plt.subplots(2, sharex=True, gridspec_kw={\"height_ratios\": (.15, .85)})\n",
    "sns.boxplot(df1[\"edu_years\"], ax=ax_box)\n",
    "sns.distplot(df1[\"edu_years\"], ax=ax_hist)"
   ]
  },
  {
   "cell_type": "markdown",
   "metadata": {},
   "source": [
    "Looking at the distribution of Occupations, we see that the highest proportion of occupations are \"Other\" which could be a problem explaining.  However, several other occupations are well represented."
   ]
  },
  {
   "cell_type": "code",
   "execution_count": 65,
   "metadata": {
    "scrolled": true
   },
   "outputs": [
    {
     "data": {
      "text/plain": [
       "<matplotlib.axes._subplots.AxesSubplot at 0x54b24e0>"
      ]
     },
     "execution_count": 65,
     "metadata": {},
     "output_type": "execute_result"
    },
    {
     "data": {
      "image/png": "[encoded data removed]",
      "text/plain": [
       "<Figure size 432x288 with 1 Axes>"
      ]
     },
     "metadata": {},
     "output_type": "display_data"
    }
   ],
   "source": [
    "df1['occ'].value_counts()[:20].plot(kind='barh')"
   ]
  },
  {
   "cell_type": "markdown",
   "metadata": {},
   "source": [
    "Looking at the relationship between Occupations and Years of Education, we see that there does not appear to be a lot of median variation in Education relative to Occupation."
   ]
  },
  {
   "cell_type": "code",
   "execution_count": 66,
   "metadata": {
    "scrolled": true
   },
   "outputs": [
    {
     "data": {
      "text/plain": [
       "<seaborn.axisgrid.FacetGrid at 0xc2f8b38>"
      ]
     },
     "execution_count": 66,
     "metadata": {},
     "output_type": "execute_result"
    },
    {
     "data": {
      "image/png": "[encoded data removed]",
      "text/plain": [
       "<Figure size 360x360 with 1 Axes>"
      ]
     },
     "metadata": {},
     "output_type": "display_data"
    }
   ],
   "source": [
    "sns.catplot(x=\"edu_years\",y=\"occ\",kind='box',data=df1)"
   ]
  },
  {
   "cell_type": "markdown",
   "metadata": {},
   "source": [
    " ## <font color=blue>Modeling and Evaluation (50 points total)</font>\n",
    "\n",
    "Different tasks will require different evaluation methods. Be as thorough as possible when analyzing the data you have chosen and use visualizations of the results to explain the performance and expected outcomes whenever possible. Guide the reader through your analysis with plenty of discussion of the results. Each option is broken down by:\n",
    "\n",
    "- [10 Points] Train and adjust parameters\n",
    "- [10 Points] Evaluate and Compare\n",
    "- [10 Points] Visualize Results\n",
    "- [20 Points] Summarize the Ramifications\n",
    "\n",
    "Option A: Cluster Analysis\n",
    "\n",
    "- Train: Perform cluster analysis using several clustering methods (adjust parameters).\n",
    "- Eval: Use internal and/or external validation measures to describe and compare the clusterings and the clusters— how did you determine a suitable number of clusters for each method?\n",
    "- Visualize: Use tables/visualization to discuss the found results. Explain each visualization in detail.\n",
    "- Summarize: Describe your results. What findings are the most interesting and why?    "
   ]
  },
  {
   "cell_type": "markdown",
   "metadata": {},
   "source": [
    "**Clustering Algorithm 1:  K-Means**"
   ]
  },
  {
   "cell_type": "markdown",
   "metadata": {},
   "source": [
    "**Clustering Algorithm 2: Hierarchical**"
   ]
  },
  {
   "cell_type": "markdown",
   "metadata": {},
   "source": [
    "**Clustering Algorithm 3: DBScan**"
   ]
  },
  {
   "cell_type": "markdown",
   "metadata": {},
   "source": [
    "## <font color=blue>Deployment (10 points total)</font>\n",
    "\n",
    "Be critical of your performance and tell the reader how you current model might be usable by other parties. Did you achieve your goals? If not, can you reign in the utility of your modeling?\n",
    "\n",
    "- How useful is your model for interested parties (i.e., the companies or organizations that might want to use it)?\n",
    "- How would your deploy your model for interested parties?\n",
    "- What other data should be collected?\n",
    "- How often would the model need to be updated, etc.?"
   ]
  },
  {
   "cell_type": "code",
   "execution_count": null,
   "metadata": {},
   "outputs": [],
   "source": []
  },
  {
   "cell_type": "markdown",
   "metadata": {},
   "source": [
    "## <font color=blue>Exceptional Work (10 points total)</font>\n",
    "\n",
    "You have free reign to provide additional analyses or combine analyses."
   ]
  },
  {
   "cell_type": "code",
   "execution_count": null,
   "metadata": {},
   "outputs": [],
   "source": []
  }
 ],
 "metadata": {
  "kernelspec": {
   "display_name": "Python 3",
   "language": "python",
   "name": "python3"
  },
  "language_info": {
   "codemirror_mode": {
    "name": "ipython",
    "version": 3
   },
   "file_extension": ".py",
   "mimetype": "text/x-python",
   "name": "python",
   "nbconvert_exporter": "python",
   "pygments_lexer": "ipython3",
   "version": "3.6.5"
  }
 },
 "nbformat": 4,
 "nbformat_minor": 2
}
